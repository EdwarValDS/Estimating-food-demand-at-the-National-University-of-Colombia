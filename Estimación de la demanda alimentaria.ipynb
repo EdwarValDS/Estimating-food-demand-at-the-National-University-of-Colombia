{
  "cells": [
    {
      "cell_type": "code",
      "source": [
        "import pandas as pd\n",
        "import numpy as np\n",
        "import seaborn as sns\n",
        "from scipy import stats\n",
        "import statsmodels.formula.api as sm\n",
        "import matplotlib.pyplot as plt\n",
        "import datetime\n",
        "import plotly.graph_objects as go\n",
        "from statsmodels.tsa.seasonal import seasonal_decompose\n",
        "import holidays\n",
        "import plotly.express as px\n",
        "from datetime import datetime, date\n",
        "from statsmodels.graphics.tsaplots import plot_acf\n",
        "from statsmodels.tsa.api import ExponentialSmoothing"
      ],
      "metadata": {
        "id": "AmQDeEhWGUe8"
      },
      "execution_count": null,
      "outputs": []
    },
    {
      "cell_type": "code",
      "source": [
        "from google.colab import drive\n",
        "drive.mount('/content/drive')"
      ],
      "metadata": {
        "id": "y_A0uIM1GXf2",
        "colab": {
          "base_uri": "https://localhost:8080/"
        },
        "outputId": "3d8df17b-7728-43b0-e6d8-24ca38845646"
      },
      "execution_count": null,
      "outputs": [
        {
          "output_type": "stream",
          "name": "stdout",
          "text": [
            "Drive already mounted at /content/drive; to attempt to forcibly remount, call drive.mount(\"/content/drive\", force_remount=True).\n"
          ]
        }
      ]
    },
    {
      "cell_type": "markdown",
      "source": [
        "//////////////////////////\n",
        "//////////////////////////\n",
        "//////////////////////////\n",
        "//////////////////////////\n",
        "//////////////////////////\n",
        "//////////////////////////\n",
        "//////////////////////////\n",
        "//////////////////////////\n",
        "//////////////////////////\n",
        "//////////////////////////\n",
        "//////////////////////////\n",
        "//////////////////////////\n",
        "//////////////////////////\n",
        "//////////////////////////\n",
        "//////////////////////////\n",
        "//////////////////////////\n",
        "//////////////////////////\n",
        "//////////////////////////\n",
        "//////////////////////////\n",
        "//////////////////////////\n",
        "//////////////////////////"
      ],
      "metadata": {
        "id": "mEe9LNP6FYZm"
      }
    },
    {
      "cell_type": "markdown",
      "source": [
        "**Transformación inicial de los datos**"
      ],
      "metadata": {
        "id": "uw67D1P8Fe5l"
      }
    },
    {
      "cell_type": "code",
      "source": [
        "# DATOS BASE\n",
        "datos = pd.read_excel(\"/content/drive/MyDrive/Colab Notebooks/Curso AnNe /Bases de datos/EJERCICIO 1.xlsx\")"
      ],
      "metadata": {
        "id": "_64fO3F7FS_1"
      },
      "execution_count": null,
      "outputs": []
    },
    {
      "cell_type": "code",
      "source": [
        "len(datos)"
      ],
      "metadata": {
        "id": "Otu0x_HLBmqn"
      },
      "execution_count": null,
      "outputs": []
    },
    {
      "cell_type": "code",
      "source": [
        "datos"
      ],
      "metadata": {
        "id": "dsuNumnem6sf"
      },
      "execution_count": null,
      "outputs": []
    },
    {
      "cell_type": "code",
      "source": [
        "# ==============================================================================\n",
        "# Ejecutar 1 vez\n",
        "# Renombar la columna de cantidad de almuerzos\n",
        "\n",
        "datos.rename(columns={\"DNI\":\"CANTIDAD\"}, inplace=True)\n",
        "datos.rename(columns={\"TIPO \\nALIMENTACION\":\"TIPO\"}, inplace=True)\n",
        "datos = datos.loc[datos['TIPO'] == 'Almuerzo']\n",
        "## Agrupar las cantidades de almuerzos según el día\n",
        "datos1 = datos.groupby(\"FECHA\")[\"CANTIDAD\"].nunique().reset_index()\n",
        "\n",
        "# >>> datos1 como el dataframe con la cantidad de almuerzos por cada fecha a nivel de SEDE\n",
        "# =============================================================================="
      ],
      "metadata": {
        "id": "ci7GsoTuFTFi"
      },
      "execution_count": null,
      "outputs": []
    },
    {
      "cell_type": "code",
      "source": [
        "datos1[\"CANTIDAD\"].sum()"
      ],
      "metadata": {
        "id": "4xTO-B2FTytU"
      },
      "execution_count": null,
      "outputs": []
    },
    {
      "cell_type": "code",
      "source": [
        "datos"
      ],
      "metadata": {
        "id": "vqhmcZzxnI-6"
      },
      "execution_count": null,
      "outputs": []
    },
    {
      "cell_type": "code",
      "source": [
        "# ==============================================================================\n",
        "# Cantidades de almuerzos por restaurante por cada fecha:\n",
        "\n",
        "datos_almuerzos = datos.loc[datos['TIPO'] == 'Almuerzo']\n",
        "almuerzos_por_restaurante_fecha = datos_almuerzos.groupby(['RESTAURANTE', 'FECHA'])['CANTIDAD'].nunique().reset_index()\n",
        "\n",
        "# Lista de restaurantes:\n",
        "restaurantes = almuerzos_por_restaurante_fecha[\"RESTAURANTE\"].unique()\n",
        "restaurantes = [\"CAMPAMENTO\", \"CAMPANARIO\", \"CLINICAS\", \"FLOR DE LOTO\", \"LIBRERIA\",\n",
        "                \"MARIPOSARIO\", \"MIRADOR\", \"PALMERAS\", \"PARQUE INFANTIL\",\n",
        "                \"PARQUE LUNA\", \"PLAYA ROJA\", \"VENTANAS\"]\n",
        "\n",
        "datos_restaurante = {}\n",
        "almuerzos_por_fecha = {}\n",
        "dataframes_fusionar = [datos1]\n",
        "\n",
        "for restaurante in restaurantes:\n",
        "    datos_restaurante[restaurante] = datos[datos['RESTAURANTE'] == restaurante]\n",
        "    almuerzos_por_fecha[restaurante] = datos_restaurante[restaurante].groupby(\"FECHA\")[\"CANTIDAD\"].nunique().reset_index()\n",
        "    almuerzos_por_fecha[restaurante].rename(columns={\"CANTIDAD\": restaurante}, inplace=True)\n",
        "    df_restaurante = almuerzos_por_fecha[restaurante]\n",
        "    df_fusionado = pd.merge(dataframes_fusionar[-1], df_restaurante, on=\"FECHA\", how=\"outer\").fillna(0)\n",
        "    dataframes_fusionar.append(df_fusionado)\n",
        "\n",
        "# ==============================================================================\n",
        "# Base de datos casi final:\n",
        "datos_fusionados = dataframes_fusionar[-1]\n",
        "# =============================================================================="
      ],
      "metadata": {
        "id": "3XYW6PfVFTLU"
      },
      "execution_count": null,
      "outputs": []
    },
    {
      "cell_type": "code",
      "source": [
        "datos_fusionados"
      ],
      "metadata": {
        "id": "JsQRA6A1CVeO"
      },
      "execution_count": null,
      "outputs": []
    },
    {
      "cell_type": "code",
      "source": [
        "len(datos_fusionados)"
      ],
      "metadata": {
        "id": "D3kh-RAGC99l"
      },
      "execution_count": null,
      "outputs": []
    },
    {
      "cell_type": "code",
      "source": [
        "# ==============================================================================\n",
        "\n",
        "# Descargar csv de cantidad de almuerzos restaurante por día SIN FECHAS CORREGIDAS:\n",
        "\n",
        "# >>>Esto para corregir los datos desde excel<<<\n",
        "almuerzos_xlsx = pd.DataFrame(datos_fusionados)\n",
        "almuerzos_xlsx.to_excel('Datos de almuerzos por restaurante por día sin corregir.xlsx', index=True)\n",
        "\n",
        "# =============================================================================="
      ],
      "metadata": {
        "id": "ZXBh7zIQFQsa"
      },
      "execution_count": null,
      "outputs": []
    },
    {
      "cell_type": "code",
      "source": [
        "datos_fusionados.tail(20)"
      ],
      "metadata": {
        "id": "jA7436nK2PY-"
      },
      "execution_count": null,
      "outputs": []
    },
    {
      "cell_type": "markdown",
      "source": [
        "//////////////////////////\n",
        "//////////////////////////\n",
        "//////////////////////////\n",
        "//////////////////////////\n",
        "//////////////////////////\n",
        "//////////////////////////\n",
        "//////////////////////////\n",
        "//////////////////////////\n",
        "//////////////////////////\n",
        "//////////////////////////\n",
        "//////////////////////////\n",
        "//////////////////////////\n",
        "//////////////////////////\n",
        "//////////////////////////\n",
        "//////////////////////////\n",
        "//////////////////////////\n",
        "//////////////////////////\n",
        "//////////////////////////\n",
        "//////////////////////////\n",
        "//////////////////////////\n",
        "//////////////////////////"
      ],
      "metadata": {
        "id": "dchRwkfYFwbN"
      }
    },
    {
      "cell_type": "code",
      "source": [
        "# ==============================================================================\n",
        "\n",
        "# CARGAR LOS DATOS ANTERIORES CON FECHAS CORREGIDAS:\n",
        "\n",
        "datos = pd.read_excel(\"/content/drive/MyDrive/Colab Notebooks/Curso AnNe /Bases de datos/Datos de almuerzos por restaurante por día FECHAS CORREGIDAS.xlsx\")\n",
        "\n",
        "# =============================================================================="
      ],
      "metadata": {
        "id": "D6XUox3rFQvh"
      },
      "execution_count": null,
      "outputs": []
    },
    {
      "cell_type": "code",
      "source": [
        "# ==============================================================================\n",
        "# Configurando los datos (EJECUTAR 1 SOLA VEZ):\n",
        "# ==============================================================================\n",
        "\n",
        "dias_semana = ['Lunes', 'Martes', 'Miércoles', 'Jueves', 'Viernes', 'Sábado', 'Domingo']\n",
        "\n",
        "# Crear un nuevo dataframe con las columnas de los días de la semana\n",
        "datos_dias_semana = pd.DataFrame(columns=dias_semana)\n",
        "\n",
        "# Concatenar el nuevo dataframe con el dataframe existente\n",
        "datos = pd.concat([datos, datos_dias_semana], axis=1)\n",
        "\n",
        "# Creas las columnas para cada día de la semana y las inicializas con el valor False\n",
        "for dia in dias_semana:\n",
        "    datos[dia] = False\n",
        "\n",
        "# Utilizas un bucle para iterar sobre los días de la semana y asignar el valor correspondiente\n",
        "for dia in range(7):\n",
        "    nombre_dia = dias_semana[dia]\n",
        "    datos.loc[datos[\"FECHA\"].apply(lambda x: x.weekday()) == dia, nombre_dia] = True\n",
        "\n",
        "# ==============================================================================\n",
        "\n",
        "# Ejecutar 1 vez la conversión de las fechas como índice:\n",
        "\n",
        "datos[\"FECHA\"]=pd.to_datetime(datos[\"FECHA\"])\n",
        "datos.index=pd.to_datetime(datos.index)\n",
        "datos.set_index(\"FECHA\", inplace=True)\n",
        "\n",
        "# ==============================================================================\n",
        "\n",
        "# Corregiendo los valores de cada columna\n",
        "\n",
        "columnas_datos = ['CANTIDAD', 'CAMPAMENTO', 'CAMPANARIO', 'CLINICAS', 'FLOR DE LOTO',\n",
        "       'LIBRERIA', 'MARIPOSARIO', 'MIRADOR', 'PALMERAS', 'PARQUE INFANTIL',\n",
        "       'PARQUE LUNA', 'PLAYA ROJA', 'VENTANAS']\n",
        "\n",
        "for i in columnas_datos:\n",
        "  datos[i] = pd.to_numeric(datos[i], downcast=\"integer\")\n",
        "\n",
        "# ==============================================================================\n",
        "\n",
        "# Asignación de días festivos:\n",
        "\n",
        "# Obtener los días festivos en Colombia:\n",
        "years=[2021,2022,2023]\n",
        "co_holidays = holidays.Colombia(years=years)\n",
        "\n",
        "# Crear una columna 'EsFestivo' y asignar True si la fecha es un día festivo en Colombia, False de lo contrario\n",
        "datos[\"FESTIVO\"] = [str(fecha.date()) in co_holidays for fecha in datos.index]\n",
        "\n",
        "# ==============================================================================\n",
        "\n",
        "# Añadir el nombre de los días en una columna:\n",
        "\n",
        "# Obtener el nombre de los días de la semana:\n",
        "datos['DIA'] = datos.index.strftime('%A')\n",
        "\n",
        "# Obtener como valores:\n",
        "datos['DIA'] = datos.index.day_of_week + 1\n",
        "\n",
        "# ==============================================================================\n",
        "\n",
        "# Asignación de frecuencia y corrección de valores nulos:\n",
        "\n",
        "datos=datos.asfreq(\"D\")\n",
        "datos=datos.fillna(0)\n",
        "\n",
        "# ==============================================================================\n",
        "\n",
        "# Renombrar columna cantidad:\n",
        "\n",
        "datos.rename(columns={'CANTIDAD':\"SEDE\"}, inplace=True)\n",
        "\n",
        "# =============================================================================="
      ],
      "metadata": {
        "id": "fyCs1fKZFQ1A"
      },
      "execution_count": null,
      "outputs": []
    },
    {
      "cell_type": "markdown",
      "source": [
        "//////////////////////////\n",
        "//////////////////////////\n",
        "//////////////////////////\n",
        "//////////////////////////\n",
        "//////////////////////////\n",
        "//////////////////////////\n",
        "//////////////////////////\n",
        "//////////////////////////\n",
        "//////////////////////////\n",
        "//////////////////////////\n",
        "//////////////////////////\n",
        "//////////////////////////\n",
        "//////////////////////////\n",
        "//////////////////////////\n",
        "//////////////////////////\n",
        "//////////////////////////\n",
        "//////////////////////////\n",
        "//////////////////////////\n",
        "//////////////////////////\n",
        "//////////////////////////\n",
        "//////////////////////////"
      ],
      "metadata": {
        "id": "UM0U-SvVGJ1I"
      }
    },
    {
      "cell_type": "code",
      "source": [
        "# ==============================================================================\n",
        "# DESCARGAR EXCEL DE DATOS FINAL:\n",
        "almuerzos_excel = pd.DataFrame(datos)\n",
        "almuerzos_excel.to_excel('DATOS FINALES.xlsx', index=True)\n",
        "# =============================================================================="
      ],
      "metadata": {
        "id": "68-cxwjCFQ7E"
      },
      "execution_count": null,
      "outputs": []
    },
    {
      "cell_type": "markdown",
      "source": [
        "//////////////////////////\n",
        "//////////////////////////\n",
        "//////////////////////////\n",
        "//////////////////////////\n",
        "//////////////////////////\n",
        "//////////////////////////\n",
        "//////////////////////////\n",
        "//////////////////////////\n",
        "//////////////////////////\n",
        "//////////////////////////\n",
        "//////////////////////////\n",
        "//////////////////////////\n",
        "//////////////////////////\n",
        "//////////////////////////\n",
        "//////////////////////////\n",
        "//////////////////////////\n",
        "//////////////////////////\n",
        "//////////////////////////\n",
        "//////////////////////////\n",
        "//////////////////////////\n",
        "//////////////////////////"
      ],
      "metadata": {
        "id": "Glcb_kstGPI0"
      }
    },
    {
      "cell_type": "markdown",
      "source": [
        "**Cargar los datos para la elaboración del modelo y el análisis:**"
      ],
      "metadata": {
        "id": "wGeOYw0JjNYV"
      }
    },
    {
      "cell_type": "code",
      "source": [
        "# Fuente del recurso: origen presupuestario\n",
        "# Area de trabajo: facultad del estudiante"
      ],
      "metadata": {
        "id": "9To5GWyLzfrP"
      },
      "execution_count": null,
      "outputs": []
    },
    {
      "cell_type": "code",
      "execution_count": null,
      "metadata": {
        "id": "048q-qQAP8L7"
      },
      "outputs": [],
      "source": [
        "# DATOS FINALES: ALMUERZOS, RESTAURANTES, FECHAS CORREGIDAS Y DÍAS DE LA SEMANA - CON OUTLIERS\n",
        "# datos = pd.read_excel(\"/content/drive/MyDrive/Colab Notebooks/Curso AnNe /Bases de datos/DATOS FINALES.xlsx\")\n",
        "#\n",
        "# datos.rename(columns = {\"CANTIDAD\":\"SEDE\"}, inplace=True)"
      ]
    },
    {
      "cell_type": "code",
      "source": [
        "# ==============================================================================\n",
        "\n",
        "# DATOS FINALES SIN OUTLIERS: ALMUERZOS, RESTAURANTES, FECHAS CORREGIDAS Y DÍAS DE LA SEMANA\n",
        "# Valores atípicos reemplazados por promedio de los valores de los 3 días de la semana anteriores al valor atípico en excel\n",
        "\n",
        "datos = pd.read_excel(\"/content/drive/MyDrive/Colab Notebooks/Curso AnNe /Bases de datos/DATOS FINALES SIN OUTLIERS.xlsx\")\n",
        "\n",
        "# Corregiendo los valores de estos datos de nuevo\n",
        "\n",
        "datos.rename(columns = {\"CANTIDAD\":\"SEDE\"}, inplace=True)\n",
        "\n",
        "columnas_datos = ['SEDE', 'CAMPAMENTO', 'CAMPANARIO', 'CLINICAS', 'FLOR DE LOTO',\n",
        "       'LIBRERIA', 'MARIPOSARIO', 'MIRADOR', 'PALMERAS', 'PARQUE INFANTIL',\n",
        "       'PARQUE LUNA', 'PLAYA ROJA', 'VENTANAS']\n",
        "\n",
        "for i in columnas_datos:\n",
        "  datos[i] = pd.to_numeric(datos[i], downcast=\"integer\")\n",
        "\n",
        "datos[\"FECHA\"]=pd.to_datetime(datos[\"FECHA\"])\n",
        "\n",
        "datos.index=pd.to_datetime(datos.index)\n",
        "\n",
        "datos.set_index(\"FECHA\", inplace=True)\n",
        "\n",
        "datos=datos.asfreq(\"D\")\n",
        "datos=datos.fillna(0)\n",
        "\n",
        "# =============================================================================="
      ],
      "metadata": {
        "id": "0T64mgijXn8j"
      },
      "execution_count": null,
      "outputs": []
    },
    {
      "cell_type": "markdown",
      "metadata": {
        "id": "OhbxUjWxLQDz"
      },
      "source": [
        "//////////////////////////\n",
        "//////////////////////////\n",
        "//////////////////////////\n",
        "//////////////////////////\n",
        "//////////////////////////\n",
        "//////////////////////////\n",
        "//////////////////////////\n",
        "//////////////////////////\n",
        "//////////////////////////\n",
        "//////////////////////////\n",
        "//////////////////////////\n",
        "//////////////////////////\n",
        "//////////////////////////\n",
        "//////////////////////////\n",
        "//////////////////////////\n",
        "//////////////////////////\n",
        "//////////////////////////\n",
        "//////////////////////////\n",
        "//////////////////////////\n",
        "//////////////////////////\n",
        "//////////////////////////\n"
      ]
    },
    {
      "cell_type": "markdown",
      "source": [
        "**Seleccionar los valores por restaurante o sede (para visualización de los datos):**"
      ],
      "metadata": {
        "id": "emq8avfiAdJ3"
      }
    },
    {
      "cell_type": "code",
      "source": [
        "restaurantes = ['SEDE', 'CAMPAMENTO', 'CAMPANARIO', 'CLINICAS', 'FLOR DE LOTO',\n",
        "       'LIBRERIA', 'MARIPOSARIO', 'MIRADOR', 'PALMERAS', 'PARQUE INFANTIL',\n",
        "       'PARQUE LUNA', 'PLAYA ROJA', 'VENTANAS']"
      ],
      "metadata": {
        "id": "nZgqkR11jX1E"
      },
      "execution_count": null,
      "outputs": []
    },
    {
      "cell_type": "code",
      "source": [
        "rest_seleccionado = \"SEDE\""
      ],
      "metadata": {
        "id": "HEYSx9VyAhsv"
      },
      "execution_count": null,
      "outputs": []
    },
    {
      "cell_type": "markdown",
      "metadata": {
        "id": "hxiUzrNGB6mz"
      },
      "source": [
        "//////////////////////////\n",
        "//////////////////////////\n",
        "//////////////////////////\n",
        "//////////////////////////\n",
        "//////////////////////////\n",
        "//////////////////////////\n",
        "//////////////////////////\n",
        "//////////////////////////\n",
        "//////////////////////////\n",
        "//////////////////////////\n",
        "//////////////////////////\n",
        "//////////////////////////\n",
        "//////////////////////////\n",
        "//////////////////////////\n",
        "//////////////////////////\n",
        "//////////////////////////\n",
        "//////////////////////////\n",
        "//////////////////////////\n",
        "//////////////////////////\n",
        "//////////////////////////\n",
        "//////////////////////////\n"
      ]
    },
    {
      "cell_type": "code",
      "execution_count": null,
      "metadata": {
        "id": "ZziaqiPjDdjc",
        "colab": {
          "base_uri": "https://localhost:8080/",
          "height": 617
        },
        "outputId": "67b0e0f5-30d3-4455-8b7a-1a0a501f3122"
      },
      "outputs": [
        {
          "output_type": "display_data",
          "data": {
            "text/html": [
              "<html>\n",
              "<head><meta charset=\"utf-8\" /></head>\n",
              "<body>\n",
              "    <div>            <script src=\"https://cdnjs.cloudflare.com/ajax/libs/mathjax/2.7.5/MathJax.js?config=TeX-AMS-MML_SVG\"></script><script type=\"text/javascript\">if (window.MathJax && window.MathJax.Hub && window.MathJax.Hub.Config) {window.MathJax.Hub.Config({SVG: {font: \"STIX-Web\"}});}</script>                <script type=\"text/javascript\">window.PlotlyConfig = {MathJaxConfig: 'local'};</script>\n",
              "        <script charset=\"utf-8\" src=\"https://cdn.plot.ly/plotly-2.24.1.min.js\"></script>                <div id=\"d7f4cb2c-406d-46f2-951f-6bfd1d3debf1\" class=\"plotly-graph-div\" style=\"height:600px; width:1200px;\"></div>            <script type=\"text/javascript\">                                    window.PLOTLYENV=window.PLOTLYENV || {};                                    if (document.getElementById(\"d7f4cb2c-406d-46f2-951f-6bfd1d3debf1\")) {                    Plotly.newPlot(                        \"d7f4cb2c-406d-46f2-951f-6bfd1d3debf1\",                        [{\"alignmentgroup\":\"True\",\"hovertemplate\":\"DIA=%{x}\\u003cbr\\u003eSEDE=%{y}\\u003cextra\\u003e\\u003c\\u002fextra\\u003e\",\"legendgroup\":\"\",\"marker\":{\"color\":\"#636efa\"},\"name\":\"\",\"notched\":false,\"offsetgroup\":\"\",\"orientation\":\"v\",\"showlegend\":false,\"x\":[1,2,3,4,5,6,7,1,2,3,4,5,6,7,1,2,3,4,5,6,7,1,2,3,4,5,6,7,1,2,3,4,5,6,7,1,2,3,4,5,6,7,1,2,3,4,5,6,7,1,2,3,4,5,6,7,1,2,3,4,5,6,7,1,2,3,4,5,6,7,1,2,3,4,5,6,7,1,2,3,4,5,6,7,1,2,3,4,5,6,7,1,2,3,4,5,6,7,1,2,3,4,5,6,7,1,2,3,4,5,6,7,1,2,3,4,5,6,7,1],\"x0\":\" \",\"xaxis\":\"x\",\"y\":[3073.0,3498.0,3441.0,3582.0,2956.0,104.0,0.0,3073.0,3830.0,3889.0,3845.0,3210.0,101.0,0.0,3586.0,3978.0,3925.0,4001.0,3365.0,119.0,0.0,3572.0,4013.0,3952.0,3892.0,3239.0,98.0,0.0,3559.0,3999.0,3770.0,3815.0,3252.0,137.0,0.0,3743.0,4064.0,4145.0,4212.0,3426.0,100.0,0.0,3624.6666666666665,4025.3333333333335,3955.6666666666665,3973.0,3305.6666666666665,49.0,0.0,3862.0,4213.0,4002.0,4207.0,3729.0,137.0,0.0,3989.0,4330.0,4228.0,4345.0,3771.0,142.0,0.0,3990.0,4290.0,4339.0,4365.0,3341.0,88.0,0.0,3947.0,4410.0,4377.0,4323.0,3609.0,148.0,0.0,4113.0,4327.0,4034.0,4344.333333333333,3346.0,166.0,0.0,3997.0,4402.0,4318.0,4339.0,3599.0,158.0,0.0,4019.0,4328.0,4352.0,4196.0,3550.0,142.0,0.0,4043.0,4284.0,4279.0,4226.0,3509.0,176.0,0.0,3856.0,4251.0,4170.0,3992.0,3536.0,279.0,167.0,3706.0,4021.0,3781.0,3702.0,3266.0,220.0,127.0,3868.3333333333335],\"y0\":\" \",\"yaxis\":\"y\",\"type\":\"box\"},{\"hovertemplate\":\"DIA=%{x}\\u003cbr\\u003eSEDE=%{y}\\u003cextra\\u003e\\u003c\\u002fextra\\u003e\",\"legendgroup\":\"\",\"marker\":{\"color\":\"#636efa\",\"symbol\":\"circle\"},\"mode\":\"markers\",\"name\":\"\",\"orientation\":\"v\",\"showlegend\":false,\"x\":[1,2,3,4,5,6,7],\"xaxis\":\"x\",\"y\":[3859.0,4213.0,4034.0,4196.0,3365.0,137.0,0.0],\"yaxis\":\"y\",\"type\":\"scatter\"},{\"hovertemplate\":\"DIA=%{x}\\u003cbr\\u003eSEDE=%{y}\\u003cextra\\u003e\\u003c\\u002fextra\\u003e\",\"legendgroup\":\"\",\"marker\":{\"color\":\"#636efa\",\"symbol\":\"circle\"},\"mode\":\"markers\",\"name\":\"\",\"orientation\":\"v\",\"showlegend\":false,\"x\":[1,2,3,4,5,6,7],\"xaxis\":\"x\",\"y\":[3756.722222222222,4133.137254901961,4056.3333333333335,4079.960784313725,3412.333333333333,139.05882352941177,17.294117647058822],\"yaxis\":\"y\",\"type\":\"scatter\"}],                        {\"template\":{\"data\":{\"histogram2dcontour\":[{\"type\":\"histogram2dcontour\",\"colorbar\":{\"outlinewidth\":0,\"ticks\":\"\"},\"colorscale\":[[0.0,\"#0d0887\"],[0.1111111111111111,\"#46039f\"],[0.2222222222222222,\"#7201a8\"],[0.3333333333333333,\"#9c179e\"],[0.4444444444444444,\"#bd3786\"],[0.5555555555555556,\"#d8576b\"],[0.6666666666666666,\"#ed7953\"],[0.7777777777777778,\"#fb9f3a\"],[0.8888888888888888,\"#fdca26\"],[1.0,\"#f0f921\"]]}],\"choropleth\":[{\"type\":\"choropleth\",\"colorbar\":{\"outlinewidth\":0,\"ticks\":\"\"}}],\"histogram2d\":[{\"type\":\"histogram2d\",\"colorbar\":{\"outlinewidth\":0,\"ticks\":\"\"},\"colorscale\":[[0.0,\"#0d0887\"],[0.1111111111111111,\"#46039f\"],[0.2222222222222222,\"#7201a8\"],[0.3333333333333333,\"#9c179e\"],[0.4444444444444444,\"#bd3786\"],[0.5555555555555556,\"#d8576b\"],[0.6666666666666666,\"#ed7953\"],[0.7777777777777778,\"#fb9f3a\"],[0.8888888888888888,\"#fdca26\"],[1.0,\"#f0f921\"]]}],\"heatmap\":[{\"type\":\"heatmap\",\"colorbar\":{\"outlinewidth\":0,\"ticks\":\"\"},\"colorscale\":[[0.0,\"#0d0887\"],[0.1111111111111111,\"#46039f\"],[0.2222222222222222,\"#7201a8\"],[0.3333333333333333,\"#9c179e\"],[0.4444444444444444,\"#bd3786\"],[0.5555555555555556,\"#d8576b\"],[0.6666666666666666,\"#ed7953\"],[0.7777777777777778,\"#fb9f3a\"],[0.8888888888888888,\"#fdca26\"],[1.0,\"#f0f921\"]]}],\"heatmapgl\":[{\"type\":\"heatmapgl\",\"colorbar\":{\"outlinewidth\":0,\"ticks\":\"\"},\"colorscale\":[[0.0,\"#0d0887\"],[0.1111111111111111,\"#46039f\"],[0.2222222222222222,\"#7201a8\"],[0.3333333333333333,\"#9c179e\"],[0.4444444444444444,\"#bd3786\"],[0.5555555555555556,\"#d8576b\"],[0.6666666666666666,\"#ed7953\"],[0.7777777777777778,\"#fb9f3a\"],[0.8888888888888888,\"#fdca26\"],[1.0,\"#f0f921\"]]}],\"contourcarpet\":[{\"type\":\"contourcarpet\",\"colorbar\":{\"outlinewidth\":0,\"ticks\":\"\"}}],\"contour\":[{\"type\":\"contour\",\"colorbar\":{\"outlinewidth\":0,\"ticks\":\"\"},\"colorscale\":[[0.0,\"#0d0887\"],[0.1111111111111111,\"#46039f\"],[0.2222222222222222,\"#7201a8\"],[0.3333333333333333,\"#9c179e\"],[0.4444444444444444,\"#bd3786\"],[0.5555555555555556,\"#d8576b\"],[0.6666666666666666,\"#ed7953\"],[0.7777777777777778,\"#fb9f3a\"],[0.8888888888888888,\"#fdca26\"],[1.0,\"#f0f921\"]]}],\"surface\":[{\"type\":\"surface\",\"colorbar\":{\"outlinewidth\":0,\"ticks\":\"\"},\"colorscale\":[[0.0,\"#0d0887\"],[0.1111111111111111,\"#46039f\"],[0.2222222222222222,\"#7201a8\"],[0.3333333333333333,\"#9c179e\"],[0.4444444444444444,\"#bd3786\"],[0.5555555555555556,\"#d8576b\"],[0.6666666666666666,\"#ed7953\"],[0.7777777777777778,\"#fb9f3a\"],[0.8888888888888888,\"#fdca26\"],[1.0,\"#f0f921\"]]}],\"mesh3d\":[{\"type\":\"mesh3d\",\"colorbar\":{\"outlinewidth\":0,\"ticks\":\"\"}}],\"scatter\":[{\"fillpattern\":{\"fillmode\":\"overlay\",\"size\":10,\"solidity\":0.2},\"type\":\"scatter\"}],\"parcoords\":[{\"type\":\"parcoords\",\"line\":{\"colorbar\":{\"outlinewidth\":0,\"ticks\":\"\"}}}],\"scatterpolargl\":[{\"type\":\"scatterpolargl\",\"marker\":{\"colorbar\":{\"outlinewidth\":0,\"ticks\":\"\"}}}],\"bar\":[{\"error_x\":{\"color\":\"#2a3f5f\"},\"error_y\":{\"color\":\"#2a3f5f\"},\"marker\":{\"line\":{\"color\":\"#E5ECF6\",\"width\":0.5},\"pattern\":{\"fillmode\":\"overlay\",\"size\":10,\"solidity\":0.2}},\"type\":\"bar\"}],\"scattergeo\":[{\"type\":\"scattergeo\",\"marker\":{\"colorbar\":{\"outlinewidth\":0,\"ticks\":\"\"}}}],\"scatterpolar\":[{\"type\":\"scatterpolar\",\"marker\":{\"colorbar\":{\"outlinewidth\":0,\"ticks\":\"\"}}}],\"histogram\":[{\"marker\":{\"pattern\":{\"fillmode\":\"overlay\",\"size\":10,\"solidity\":0.2}},\"type\":\"histogram\"}],\"scattergl\":[{\"type\":\"scattergl\",\"marker\":{\"colorbar\":{\"outlinewidth\":0,\"ticks\":\"\"}}}],\"scatter3d\":[{\"type\":\"scatter3d\",\"line\":{\"colorbar\":{\"outlinewidth\":0,\"ticks\":\"\"}},\"marker\":{\"colorbar\":{\"outlinewidth\":0,\"ticks\":\"\"}}}],\"scattermapbox\":[{\"type\":\"scattermapbox\",\"marker\":{\"colorbar\":{\"outlinewidth\":0,\"ticks\":\"\"}}}],\"scatterternary\":[{\"type\":\"scatterternary\",\"marker\":{\"colorbar\":{\"outlinewidth\":0,\"ticks\":\"\"}}}],\"scattercarpet\":[{\"type\":\"scattercarpet\",\"marker\":{\"colorbar\":{\"outlinewidth\":0,\"ticks\":\"\"}}}],\"carpet\":[{\"aaxis\":{\"endlinecolor\":\"#2a3f5f\",\"gridcolor\":\"white\",\"linecolor\":\"white\",\"minorgridcolor\":\"white\",\"startlinecolor\":\"#2a3f5f\"},\"baxis\":{\"endlinecolor\":\"#2a3f5f\",\"gridcolor\":\"white\",\"linecolor\":\"white\",\"minorgridcolor\":\"white\",\"startlinecolor\":\"#2a3f5f\"},\"type\":\"carpet\"}],\"table\":[{\"cells\":{\"fill\":{\"color\":\"#EBF0F8\"},\"line\":{\"color\":\"white\"}},\"header\":{\"fill\":{\"color\":\"#C8D4E3\"},\"line\":{\"color\":\"white\"}},\"type\":\"table\"}],\"barpolar\":[{\"marker\":{\"line\":{\"color\":\"#E5ECF6\",\"width\":0.5},\"pattern\":{\"fillmode\":\"overlay\",\"size\":10,\"solidity\":0.2}},\"type\":\"barpolar\"}],\"pie\":[{\"automargin\":true,\"type\":\"pie\"}]},\"layout\":{\"autotypenumbers\":\"strict\",\"colorway\":[\"#636efa\",\"#EF553B\",\"#00cc96\",\"#ab63fa\",\"#FFA15A\",\"#19d3f3\",\"#FF6692\",\"#B6E880\",\"#FF97FF\",\"#FECB52\"],\"font\":{\"color\":\"#2a3f5f\"},\"hovermode\":\"closest\",\"hoverlabel\":{\"align\":\"left\"},\"paper_bgcolor\":\"white\",\"plot_bgcolor\":\"#E5ECF6\",\"polar\":{\"bgcolor\":\"#E5ECF6\",\"angularaxis\":{\"gridcolor\":\"white\",\"linecolor\":\"white\",\"ticks\":\"\"},\"radialaxis\":{\"gridcolor\":\"white\",\"linecolor\":\"white\",\"ticks\":\"\"}},\"ternary\":{\"bgcolor\":\"#E5ECF6\",\"aaxis\":{\"gridcolor\":\"white\",\"linecolor\":\"white\",\"ticks\":\"\"},\"baxis\":{\"gridcolor\":\"white\",\"linecolor\":\"white\",\"ticks\":\"\"},\"caxis\":{\"gridcolor\":\"white\",\"linecolor\":\"white\",\"ticks\":\"\"}},\"coloraxis\":{\"colorbar\":{\"outlinewidth\":0,\"ticks\":\"\"}},\"colorscale\":{\"sequential\":[[0.0,\"#0d0887\"],[0.1111111111111111,\"#46039f\"],[0.2222222222222222,\"#7201a8\"],[0.3333333333333333,\"#9c179e\"],[0.4444444444444444,\"#bd3786\"],[0.5555555555555556,\"#d8576b\"],[0.6666666666666666,\"#ed7953\"],[0.7777777777777778,\"#fb9f3a\"],[0.8888888888888888,\"#fdca26\"],[1.0,\"#f0f921\"]],\"sequentialminus\":[[0.0,\"#0d0887\"],[0.1111111111111111,\"#46039f\"],[0.2222222222222222,\"#7201a8\"],[0.3333333333333333,\"#9c179e\"],[0.4444444444444444,\"#bd3786\"],[0.5555555555555556,\"#d8576b\"],[0.6666666666666666,\"#ed7953\"],[0.7777777777777778,\"#fb9f3a\"],[0.8888888888888888,\"#fdca26\"],[1.0,\"#f0f921\"]],\"diverging\":[[0,\"#8e0152\"],[0.1,\"#c51b7d\"],[0.2,\"#de77ae\"],[0.3,\"#f1b6da\"],[0.4,\"#fde0ef\"],[0.5,\"#f7f7f7\"],[0.6,\"#e6f5d0\"],[0.7,\"#b8e186\"],[0.8,\"#7fbc41\"],[0.9,\"#4d9221\"],[1,\"#276419\"]]},\"xaxis\":{\"gridcolor\":\"white\",\"linecolor\":\"white\",\"ticks\":\"\",\"title\":{\"standoff\":15},\"zerolinecolor\":\"white\",\"automargin\":true,\"zerolinewidth\":2},\"yaxis\":{\"gridcolor\":\"white\",\"linecolor\":\"white\",\"ticks\":\"\",\"title\":{\"standoff\":15},\"zerolinecolor\":\"white\",\"automargin\":true,\"zerolinewidth\":2},\"scene\":{\"xaxis\":{\"backgroundcolor\":\"#E5ECF6\",\"gridcolor\":\"white\",\"linecolor\":\"white\",\"showbackground\":true,\"ticks\":\"\",\"zerolinecolor\":\"white\",\"gridwidth\":2},\"yaxis\":{\"backgroundcolor\":\"#E5ECF6\",\"gridcolor\":\"white\",\"linecolor\":\"white\",\"showbackground\":true,\"ticks\":\"\",\"zerolinecolor\":\"white\",\"gridwidth\":2},\"zaxis\":{\"backgroundcolor\":\"#E5ECF6\",\"gridcolor\":\"white\",\"linecolor\":\"white\",\"showbackground\":true,\"ticks\":\"\",\"zerolinecolor\":\"white\",\"gridwidth\":2}},\"shapedefaults\":{\"line\":{\"color\":\"#2a3f5f\"}},\"annotationdefaults\":{\"arrowcolor\":\"#2a3f5f\",\"arrowhead\":0,\"arrowwidth\":1},\"geo\":{\"bgcolor\":\"white\",\"landcolor\":\"#E5ECF6\",\"subunitcolor\":\"white\",\"showland\":true,\"showlakes\":true,\"lakecolor\":\"white\"},\"title\":{\"x\":0.05},\"mapbox\":{\"style\":\"light\"}}},\"xaxis\":{\"anchor\":\"y\",\"domain\":[0.0,1.0],\"title\":{\"text\":\"DIA\"}},\"yaxis\":{\"anchor\":\"x\",\"domain\":[0.0,1.0],\"title\":{\"text\":\"SEDE\"}},\"legend\":{\"tracegroupgap\":0},\"title\":{\"text\":\"Distribuci\\u00f3n cantidad por d\\u00eda de la semana\"},\"boxmode\":\"group\",\"width\":1200,\"height\":600},                        {\"responsive\": true}                    ).then(function(){\n",
              "                            \n",
              "var gd = document.getElementById('d7f4cb2c-406d-46f2-951f-6bfd1d3debf1');\n",
              "var x = new MutationObserver(function (mutations, observer) {{\n",
              "        var display = window.getComputedStyle(gd).display;\n",
              "        if (!display || display === 'none') {{\n",
              "            console.log([gd, 'removed!']);\n",
              "            Plotly.purge(gd);\n",
              "            observer.disconnect();\n",
              "        }}\n",
              "}});\n",
              "\n",
              "// Listen for the removal of the full notebook cells\n",
              "var notebookContainer = gd.closest('#notebook-container');\n",
              "if (notebookContainer) {{\n",
              "    x.observe(notebookContainer, {childList: true});\n",
              "}}\n",
              "\n",
              "// Listen for the clearing of the current output cell\n",
              "var outputEl = gd.closest('.output');\n",
              "if (outputEl) {{\n",
              "    x.observe(outputEl, {childList: true});\n",
              "}}\n",
              "\n",
              "                        })                };                            </script>        </div>\n",
              "</body>\n",
              "</html>"
            ]
          },
          "metadata": {}
        }
      ],
      "source": [
        "# Gráfico boxplot para estacionalidad semanal interactivo\n",
        "# ==============================================================================\n",
        "datos['DIA'] = datos.index.dayofweek + 1\n",
        "\n",
        "# Calcular la mediana por día de la semana\n",
        "medianas = datos.groupby('DIA')[rest_seleccionado].median().reset_index()\n",
        "promedios = datos.groupby('DIA')[rest_seleccionado].mean().reset_index()\n",
        "# Crear gráfico interactivo con Plotly\n",
        "fig = px.box(datos, x='DIA', y=rest_seleccionado, title='Distribución cantidad por día de la semana')\n",
        "fig.add_trace(px.scatter(medianas, x='DIA', y=rest_seleccionado).data[0])\n",
        "fig.add_trace(px.scatter(promedios, x='DIA', y=rest_seleccionado).data[0])\n",
        "fig.update_layout(yaxis_title=rest_seleccionado, width=1200, height=600)\n",
        "fig.show()"
      ]
    },
    {
      "cell_type": "code",
      "source": [
        "# Gráfico autocorrelación\n",
        "# ==============================================================================\n",
        "fig, ax = plt.subplots(figsize=(12, 6))\n",
        "plot_acf(datos.SEDE, ax=ax, lags=28)\n",
        "\n",
        "#plt.savefig('Gráfico de autocorrelación.png', dpi=1000)\n",
        "\n",
        "plt.show()"
      ],
      "metadata": {
        "id": "TQh-UMmLntaO"
      },
      "execution_count": null,
      "outputs": []
    },
    {
      "cell_type": "code",
      "execution_count": null,
      "metadata": {
        "id": "1sNl3UrwEWr-"
      },
      "outputs": [],
      "source": [
        "# Gráfico interactivo de la cantidad de almuerzos por día (del restaurante seleccionado):\n",
        "\n",
        "fig = go.Figure()\n",
        "fig.add_trace(go.Scatter(x=datos.index, y=datos[rest_seleccionado], name=\"Cantidad almuerzos\"))\n",
        "fig.update_layout(\n",
        "    title=\"Almuerzos por día\",\n",
        "    xaxis_title=\"Fechas\",\n",
        "    yaxis_title=rest_seleccionado,\n",
        "    legend=dict(\n",
        "        x=0,\n",
        "        y=1,\n",
        "        traceorder=\"normal\",\n",
        "        font=dict(size=12),\n",
        "    )\n",
        ")\n",
        "fig.show()"
      ]
    },
    {
      "cell_type": "code",
      "source": [
        "cantidadesreales = {}\n",
        "\n",
        "for restaurante in restaurantes:\n",
        "    cantidadesreales[restaurante] = datos[restaurante].sum()\n",
        "\n",
        "(pd.DataFrame(cantidadesreales, index=[\"Cantidades reales\"])).round(0)"
      ],
      "metadata": {
        "id": "Kelv75AtpVt0"
      },
      "execution_count": null,
      "outputs": []
    },
    {
      "cell_type": "markdown",
      "source": [
        "//////////////////////////\n",
        "//////////////////////////\n",
        "//////////////////////////\n",
        "//////////////////////////\n",
        "//////////////////////////\n",
        "//////////////////////////\n",
        "//////////////////////////\n",
        "//////////////////////////\n",
        "//////////////////////////\n",
        "//////////////////////////\n",
        "//////////////////////////\n",
        "//////////////////////////\n",
        "//////////////////////////\n",
        "//////////////////////////\n",
        "//////////////////////////\n",
        "//////////////////////////\n",
        "//////////////////////////\n",
        "//////////////////////////\n",
        "//////////////////////////\n",
        "//////////////////////////\n",
        "//////////////////////////"
      ],
      "metadata": {
        "id": "6sfqPx_iHPxM"
      }
    },
    {
      "cell_type": "markdown",
      "source": [
        "**Recursos para el modelo:**"
      ],
      "metadata": {
        "id": "UTTXhcKEHRm0"
      }
    },
    {
      "cell_type": "code",
      "execution_count": null,
      "metadata": {
        "id": "5KNGszQREWzV"
      },
      "outputs": [],
      "source": [
        "# ===================================================================================================\n",
        "# Modelo Machine learning\n",
        "# ==================================================================================================="
      ]
    },
    {
      "cell_type": "code",
      "execution_count": null,
      "metadata": {
        "id": "stdtIn8vwF6i"
      },
      "outputs": [],
      "source": [
        "# Instalar una vez:\n",
        "\n",
        "!pip install statsmodels\n",
        "!pip install scikit-fmm\n",
        "!pip install scikit-learn\n",
        "!pip install lightgbm"
      ]
    },
    {
      "cell_type": "code",
      "execution_count": null,
      "metadata": {
        "id": "gVbvpkTSwh5B"
      },
      "outputs": [],
      "source": [
        "# Se requieren instalar cada vez que se abra el archivo\n",
        "\n",
        "!pip install skforecast\n",
        "!pip install sktime"
      ]
    },
    {
      "cell_type": "code",
      "execution_count": null,
      "metadata": {
        "id": "WHFOBImHvRJ5"
      },
      "outputs": [],
      "source": [
        "# Tratamiento de datos\n",
        "# ==============================================================================\n",
        "import numpy as np\n",
        "import pandas as pd\n",
        "\n",
        "# Gráficos\n",
        "# ==============================================================================\n",
        "import matplotlib.pyplot as plt\n",
        "import seaborn as sns\n",
        "%matplotlib inline\n",
        "from statsmodels.graphics.tsaplots import plot_acf\n",
        "from statsmodels.graphics.tsaplots import plot_pacf\n",
        "plt.style.use('seaborn-v0_8-darkgrid')\n",
        "\n",
        "# Modelado y Forecasting\n",
        "# ==============================================================================\n",
        "from sklearn.linear_model import Ridge\n",
        "from lightgbm import LGBMRegressor\n",
        "from sklearn.preprocessing import StandardScaler\n",
        "from sklearn.metrics import mean_absolute_error\n",
        "from skforecast.ForecasterAutoreg import ForecasterAutoreg\n",
        "from skforecast.ForecasterAutoregDirect import ForecasterAutoregDirect\n",
        "from skforecast.model_selection import grid_search_forecaster\n",
        "from skforecast.model_selection import backtesting_forecaster\n",
        "from sklearn.preprocessing import OneHotEncoder\n",
        "from sklearn.compose import make_column_transformer\n",
        "from sklearn.compose import make_column_selector\n",
        "from sklearn.ensemble import GradientBoostingRegressor\n",
        "from sklearn.preprocessing import StandardScaler\n",
        "from sktime.forecasting.model_selection import temporal_train_test_split\n",
        "from sktime.forecasting.model_selection import ForecastingGridSearchCV\n",
        "from sktime.performance_metrics.forecasting import mean_absolute_percentage_error\n",
        "from sktime.datasets import load_airline\n",
        "from sklearn.metrics import mean_squared_error\n",
        "\n",
        "from xgboost import XGBRegressor\n",
        "from sklearn.preprocessing import StandardScaler\n",
        "from sktime.forecasting.model_selection import temporal_train_test_split\n",
        "from sktime.performance_metrics.forecasting import mean_absolute_percentage_error\n",
        "from sktime.datasets import load_airline\n",
        "# Configuración warnings\n",
        "# ==============================================================================\n",
        "import warnings\n",
        "warnings.filterwarnings('ignore')"
      ]
    },
    {
      "cell_type": "markdown",
      "source": [
        "**Gestionando el conjunto de entrenamiento, validación y prueba:**\n",
        ">>>El proceso de validación no es posible dada la escasez de los datos"
      ],
      "metadata": {
        "id": "RBfxDpyhHfAc"
      }
    },
    {
      "cell_type": "code",
      "execution_count": null,
      "metadata": {
        "id": "Rmhj8beuxdDv",
        "colab": {
          "base_uri": "https://localhost:8080/"
        },
        "outputId": "b32bde9b-57f5-4505-d5ae-5136813c30b0"
      },
      "outputs": [
        {
          "output_type": "stream",
          "name": "stdout",
          "text": [
            "2022-02-28 00:00:00\n",
            "2022-06-27 00:00:00\n"
          ]
        }
      ],
      "source": [
        "fecha_minima = datos.index.min()\n",
        "fecha_maxima = datos.index.max()\n",
        "print(fecha_minima)\n",
        "print(fecha_maxima)"
      ]
    },
    {
      "cell_type": "code",
      "execution_count": null,
      "metadata": {
        "id": "hosFVl0lwsh5",
        "colab": {
          "base_uri": "https://localhost:8080/"
        },
        "outputId": "668595c4-0165-4518-c654-761c81f19304"
      },
      "outputs": [
        {
          "output_type": "stream",
          "name": "stdout",
          "text": [
            "Fechas train      : 2022-02-28 00:00:00 --- 2022-05-23 00:00:00  (n=85)\n",
            "Fechas validacion : 2022-05-23 00:00:00 --- 2022-05-23 00:00:00  (n=1)\n",
            "Fechas test       : 2022-05-23 00:00:00 --- 2022-06-27 00:00:00  (n=36)\n"
          ]
        }
      ],
      "source": [
        "# Separación de datos para entrenamiento, validación y prueba\n",
        "# ==============================================================================\n",
        "datos = datos.loc['2022-02-28': '2022-06-27'].copy()\n",
        "fin_train = '2022-05-23'\n",
        "fin_test = '2022-06-27'\n",
        "fin_validacion = '2022-05-23'\n",
        "datos_train = datos.loc[: fin_train, :].copy()\n",
        "datos_val   = datos.loc[fin_train:fin_validacion, :].copy()\n",
        "datos_test  = datos.loc[fin_validacion:, :].copy()\n",
        "\n",
        "print(f\"Fechas train      : {datos_train.index.min()} --- {datos_train.index.max()}  (n={len(datos_train)})\")\n",
        "print(f\"Fechas validacion : {datos_val.index.min()} --- {datos_val.index.max()}  (n={len(datos_val)})\")\n",
        "print(f\"Fechas test       : {datos_test.index.min()} --- {datos_test.index.max()}  (n={len(datos_test)})\")"
      ]
    },
    {
      "cell_type": "code",
      "execution_count": null,
      "metadata": {
        "id": "ATCt1_C6xWRm",
        "colab": {
          "base_uri": "https://localhost:8080/",
          "height": 496
        },
        "outputId": "acdccf1a-53ad-4e24-855b-43e90b9864a8"
      },
      "outputs": [
        {
          "output_type": "display_data",
          "data": {
            "text/plain": [
              "<Figure size 1200x500 with 1 Axes>"
            ],
            "image/png": "[encoded data removed]"
          },
          "metadata": {}
        }
      ],
      "source": [
        "# Gráfico de serie temporal de los conjuntos de datos anteriores\n",
        "# ==============================================================================\n",
        "palabra = rest_seleccionado\n",
        "p_restaurante = palabra.replace('\"', '')\n",
        "fig, ax = plt.subplots(figsize=(12, 5))\n",
        "datos_train.SEDE.plot(ax=ax, label='Entrenamiento', linewidth=2)\n",
        "#datos_val.SEDE.plot(ax=ax, label='validación', linewidth=1)\n",
        "datos_test.SEDE.plot(ax=ax, label='Prueba', linewidth=2)\n",
        "ax.set_title('Cantidad de almuerzos por fecha')\n",
        "ax.legend(loc=\"upper left\");\n",
        "\n",
        "#plt.savefig('Entrenamiento y prueba.png', dpi=1000, bbox_inches='tight')"
      ]
    },
    {
      "cell_type": "markdown",
      "source": [
        "//////////////////////////\n",
        "//////////////////////////\n",
        "//////////////////////////\n",
        "//////////////////////////\n",
        "//////////////////////////\n",
        "//////////////////////////\n",
        "//////////////////////////\n",
        "//////////////////////////\n",
        "//////////////////////////\n",
        "//////////////////////////\n",
        "//////////////////////////\n",
        "//////////////////////////\n",
        "//////////////////////////\n",
        "//////////////////////////\n",
        "//////////////////////////\n",
        "//////////////////////////\n",
        "//////////////////////////\n",
        "//////////////////////////\n",
        "//////////////////////////\n",
        "//////////////////////////\n",
        "//////////////////////////"
      ],
      "metadata": {
        "id": "XjxGpP0qjO1K"
      }
    },
    {
      "cell_type": "markdown",
      "source": [
        "**Creando el modelo:**"
      ],
      "metadata": {
        "id": "EH9Bl2YYjSG0"
      }
    },
    {
      "cell_type": "code",
      "source": [
        "# Modelo forecaster para cada restaurante:\n",
        "# Lista de restaurantes:\n",
        "restaurantes = ['SEDE', 'CAMPAMENTO', 'CAMPANARIO', 'CLINICAS', 'FLOR DE LOTO',\n",
        "       'LIBRERIA', 'MARIPOSARIO', 'MIRADOR', 'PALMERAS', 'PARQUE INFANTIL',\n",
        "       'PARQUE LUNA', 'PLAYA ROJA', 'VENTANAS']\n",
        "\n",
        "forecasters = {}  # Diccionario para almacenar los forecasters por restaurante\n",
        "\n",
        "for restaurante in restaurantes:\n",
        "    forecaster_restaurante = ForecasterAutoreg(\n",
        "                                 regressor     =  XGBRegressor(),\n",
        "                                 lags          = [28,35,7],\n",
        "                                 transformer_y = StandardScaler()\n",
        "                             )\n",
        "\n",
        "    forecaster_restaurante.fit(y=datos.loc[:fin_validacion, restaurante])\n",
        "\n",
        "    forecasters[restaurante] = forecaster_restaurante"
      ],
      "metadata": {
        "id": "gocRDz7FSo0z"
      },
      "execution_count": null,
      "outputs": []
    },
    {
      "cell_type": "code",
      "source": [
        "# Backtest para cada restaurante\n",
        "# ==============================================================================\n",
        "resultados = {}  # Diccionario para almacenar los resultados por restaurante\n",
        "\n",
        "for restaurante in restaurantes:\n",
        "    metrica, predicciones = backtesting_forecaster(\n",
        "                                forecaster         = forecasters[restaurante],\n",
        "                                y                  = datos[restaurante],\n",
        "                                steps              = 7,\n",
        "                                metric             = 'mean_absolute_error',\n",
        "                                initial_train_size = len(datos.loc[:fin_validacion, restaurante]),\n",
        "                                refit              = False,\n",
        "                                verbose            = False,\n",
        "                                show_progress      = True\n",
        "                            )\n",
        "    resultados[restaurante] = {'metrica': metrica, 'predicciones': predicciones}"
      ],
      "metadata": {
        "id": "5zuqs_3ibxZZ"
      },
      "execution_count": null,
      "outputs": []
    },
    {
      "cell_type": "markdown",
      "source": [
        "**Elegir restaurante:**"
      ],
      "metadata": {
        "id": "vWo9pzMzjkk-"
      }
    },
    {
      "cell_type": "code",
      "source": [
        "rest_seleccionado = \"SEDE\"\n",
        "\n",
        "# Elegir las predicciones para el restaurante seleccionado:\n",
        "predicciones = resultados[rest_seleccionado][\"predicciones\"]\n",
        "metrica = resultados[rest_seleccionado][\"metrica\"]"
      ],
      "metadata": {
        "id": "q3gSBut7eJMU"
      },
      "execution_count": null,
      "outputs": []
    },
    {
      "cell_type": "code",
      "source": [
        "# Gráfico del modelo por restaurante del conjunto de los datos de prueba\n",
        "# ==============================================================================\n",
        "fig, ax = plt.subplots(figsize=(10, 4))\n",
        "datos.loc[predicciones.index, rest_seleccionado].plot(ax=ax, linewidth=2, label='Datos reales')\n",
        "prediccionesplot = predicciones.rename(columns={\"pred\":\"Datos predichos\"}, inplace=False)\n",
        "prediccionesplot.plot(ax=ax, linewidth=2, label=\"Datos predichos\")\n",
        "ax.set_title('Predicción vs Cantidad real')\n",
        "ax.legend();\n",
        "\n",
        "#plt.savefig('Predicción versus cantidad real.png', dpi=1000, bbox_inches='tight')"
      ],
      "metadata": {
        "id": "4La1VVcvWB-P",
        "colab": {
          "base_uri": "https://localhost:8080/",
          "height": 432
        },
        "outputId": "ae65e72a-a4b5-4d34-b3f3-046dbbe0f850"
      },
      "execution_count": null,
      "outputs": [
        {
          "output_type": "display_data",
          "data": {
            "text/plain": [
              "<Figure size 1000x400 with 1 Axes>"
            ],
            "image/png": "[encoded data removed]"
          },
          "metadata": {}
        }
      ]
    },
    {
      "cell_type": "code",
      "source": [
        "# Error backtest individual\n",
        "# ==============================================================================\n",
        "print(f'Error backtest: {round(metrica,0)}')\n",
        "\n",
        "# ==============================================================================\n",
        "# Error backtest porcentual individual:\n",
        "datosreales = datos.loc[predicciones.index, rest_seleccionado]\n",
        "datospredichos = predicciones\n",
        "mae_porcentual = (metrica / np.mean(datosreales)) * 100\n",
        "\n",
        "print(f\"Error backtest porcentual: {round(mae_porcentual,2)}\" + \"%\")"
      ],
      "metadata": {
        "id": "q5NIvb_cc0hq",
        "colab": {
          "base_uri": "https://localhost:8080/"
        },
        "outputId": "6f3427f8-6254-41a3-96b0-1e495e84fa7f"
      },
      "execution_count": null,
      "outputs": [
        {
          "output_type": "stream",
          "name": "stdout",
          "text": [
            "Error backtest: 152.0\n",
            "Error backtest porcentual: 5.27%\n"
          ]
        }
      ]
    },
    {
      "cell_type": "code",
      "source": [
        "# Error backtest absoluto y porcentual para cada restaurante:\n",
        "# ==============================================================================\n",
        "erroresabsolutos = {}\n",
        "erroresporcentuales = {}\n",
        "datosreales = {}\n",
        "\n",
        "for restaurante in restaurantes:\n",
        "    erroresabsolutos[restaurante] = round((resultados[restaurante][\"metrica\"]), 0)\n",
        "    datosreales[restaurante] = datos.loc[predicciones.index, restaurante]\n",
        "    erroresporcentuales[restaurante] =  round(((resultados[restaurante][\"metrica\"] / np.mean(datosreales[restaurante])) * 100), 2)\n",
        "\n",
        "# Ver errores porcentuales por restaurantes:\n",
        "pd.DataFrame(erroresporcentuales, index=[\"Error relativo\"])"
      ],
      "metadata": {
        "colab": {
          "base_uri": "https://localhost:8080/",
          "height": 81
        },
        "id": "CTCtJ8j9ZEGO",
        "outputId": "1b1cc88d-d2a2-458b-e4cc-a7fe28ee5f42"
      },
      "execution_count": null,
      "outputs": [
        {
          "output_type": "execute_result",
          "data": {
            "text/plain": [
              "                SEDE  CAMPAMENTO  CAMPANARIO  CLINICAS  FLOR DE LOTO  \\\n",
              "Error relativo  5.27        8.45        2.87      7.99         32.95   \n",
              "\n",
              "                LIBRERIA  MARIPOSARIO  MIRADOR  PALMERAS  PARQUE INFANTIL  \\\n",
              "Error relativo     100.0          9.0     5.05      5.93            14.37   \n",
              "\n",
              "                PARQUE LUNA  PLAYA ROJA  VENTANAS  \n",
              "Error relativo         5.71       10.01      7.39  "
            ],
            "text/html": [
              "\n",
              "  <div id=\"df-dafbb757-f612-4ad8-981c-c20b99ccc578\">\n",
              "    <div class=\"colab-df-container\">\n",
              "      <div>\n",
              "<style scoped>\n",
              "    .dataframe tbody tr th:only-of-type {\n",
              "        vertical-align: middle;\n",
              "    }\n",
              "\n",
              "    .dataframe tbody tr th {\n",
              "        vertical-align: top;\n",
              "    }\n",
              "\n",
              "    .dataframe thead th {\n",
              "        text-align: right;\n",
              "    }\n",
              "</style>\n",
              "<table border=\"1\" class=\"dataframe\">\n",
              "  <thead>\n",
              "    <tr style=\"text-align: right;\">\n",
              "      <th></th>\n",
              "      <th>SEDE</th>\n",
              "      <th>CAMPAMENTO</th>\n",
              "      <th>CAMPANARIO</th>\n",
              "      <th>CLINICAS</th>\n",
              "      <th>FLOR DE LOTO</th>\n",
              "      <th>LIBRERIA</th>\n",
              "      <th>MARIPOSARIO</th>\n",
              "      <th>MIRADOR</th>\n",
              "      <th>PALMERAS</th>\n",
              "      <th>PARQUE INFANTIL</th>\n",
              "      <th>PARQUE LUNA</th>\n",
              "      <th>PLAYA ROJA</th>\n",
              "      <th>VENTANAS</th>\n",
              "    </tr>\n",
              "  </thead>\n",
              "  <tbody>\n",
              "    <tr>\n",
              "      <th>Error relativo</th>\n",
              "      <td>5.27</td>\n",
              "      <td>8.45</td>\n",
              "      <td>2.87</td>\n",
              "      <td>7.99</td>\n",
              "      <td>32.95</td>\n",
              "      <td>100.0</td>\n",
              "      <td>9.0</td>\n",
              "      <td>5.05</td>\n",
              "      <td>5.93</td>\n",
              "      <td>14.37</td>\n",
              "      <td>5.71</td>\n",
              "      <td>10.01</td>\n",
              "      <td>7.39</td>\n",
              "    </tr>\n",
              "  </tbody>\n",
              "</table>\n",
              "</div>\n",
              "      <button class=\"colab-df-convert\" onclick=\"convertToInteractive('df-dafbb757-f612-4ad8-981c-c20b99ccc578')\"\n",
              "              title=\"Convert this dataframe to an interactive table.\"\n",
              "              style=\"display:none;\">\n",
              "        \n",
              "  <svg xmlns=\"http://www.w3.org/2000/svg\" height=\"24px\"viewBox=\"0 0 24 24\"\n",
              "       width=\"24px\">\n",
              "    <path d=\"M0 0h24v24H0V0z\" fill=\"none\"/>\n",
              "    <path d=\"M18.56 5.44l.94 2.06.94-2.06 2.06-.94-2.06-.94-.94-2.06-.94 2.06-2.06.94zm-11 1L8.5 8.5l.94-2.06 2.06-.94-2.06-.94L8.5 2.5l-.94 2.06-2.06.94zm10 10l.94 2.06.94-2.06 2.06-.94-2.06-.94-.94-2.06-.94 2.06-2.06.94z\"/><path d=\"M17.41 7.96l-1.37-1.37c-.4-.4-.92-.59-1.43-.59-.52 0-1.04.2-1.43.59L10.3 9.45l-7.72 7.72c-.78.78-.78 2.05 0 2.83L4 21.41c.39.39.9.59 1.41.59.51 0 1.02-.2 1.41-.59l7.78-7.78 2.81-2.81c.8-.78.8-2.07 0-2.86zM5.41 20L4 18.59l7.72-7.72 1.47 1.35L5.41 20z\"/>\n",
              "  </svg>\n",
              "      </button>\n",
              "      \n",
              "  <style>\n",
              "    .colab-df-container {\n",
              "      display:flex;\n",
              "      flex-wrap:wrap;\n",
              "      gap: 12px;\n",
              "    }\n",
              "\n",
              "    .colab-df-convert {\n",
              "      background-color: #E8F0FE;\n",
              "      border: none;\n",
              "      border-radius: 50%;\n",
              "      cursor: pointer;\n",
              "      display: none;\n",
              "      fill: #1967D2;\n",
              "      height: 32px;\n",
              "      padding: 0 0 0 0;\n",
              "      width: 32px;\n",
              "    }\n",
              "\n",
              "    .colab-df-convert:hover {\n",
              "      background-color: #E2EBFA;\n",
              "      box-shadow: 0px 1px 2px rgba(60, 64, 67, 0.3), 0px 1px 3px 1px rgba(60, 64, 67, 0.15);\n",
              "      fill: #174EA6;\n",
              "    }\n",
              "\n",
              "    [theme=dark] .colab-df-convert {\n",
              "      background-color: #3B4455;\n",
              "      fill: #D2E3FC;\n",
              "    }\n",
              "\n",
              "    [theme=dark] .colab-df-convert:hover {\n",
              "      background-color: #434B5C;\n",
              "      box-shadow: 0px 1px 3px 1px rgba(0, 0, 0, 0.15);\n",
              "      filter: drop-shadow(0px 1px 2px rgba(0, 0, 0, 0.3));\n",
              "      fill: #FFFFFF;\n",
              "    }\n",
              "  </style>\n",
              "\n",
              "      <script>\n",
              "        const buttonEl =\n",
              "          document.querySelector('#df-dafbb757-f612-4ad8-981c-c20b99ccc578 button.colab-df-convert');\n",
              "        buttonEl.style.display =\n",
              "          google.colab.kernel.accessAllowed ? 'block' : 'none';\n",
              "\n",
              "        async function convertToInteractive(key) {\n",
              "          const element = document.querySelector('#df-dafbb757-f612-4ad8-981c-c20b99ccc578');\n",
              "          const dataTable =\n",
              "            await google.colab.kernel.invokeFunction('convertToInteractive',\n",
              "                                                     [key], {});\n",
              "          if (!dataTable) return;\n",
              "\n",
              "          const docLinkHtml = 'Like what you see? Visit the ' +\n",
              "            '<a target=\"_blank\" href=https://colab.research.google.com/notebooks/data_table.ipynb>data table notebook</a>'\n",
              "            + ' to learn more about interactive tables.';\n",
              "          element.innerHTML = '';\n",
              "          dataTable['output_type'] = 'display_data';\n",
              "          await google.colab.output.renderOutput(dataTable, element);\n",
              "          const docLink = document.createElement('div');\n",
              "          docLink.innerHTML = docLinkHtml;\n",
              "          element.appendChild(docLink);\n",
              "        }\n",
              "      </script>\n",
              "    </div>\n",
              "  </div>\n",
              "  "
            ]
          },
          "metadata": {},
          "execution_count": 18
        }
      ]
    },
    {
      "cell_type": "code",
      "source": [
        "# Ver errores absolutos por restaurantes:\n",
        "pd.DataFrame(erroresabsolutos, index=[\"Error absoluto\"])"
      ],
      "metadata": {
        "colab": {
          "base_uri": "https://localhost:8080/",
          "height": 81
        },
        "id": "vbJrRXR7bjwg",
        "outputId": "5a370fb1-97e4-4bb8-9dca-a6d728e8b6e2"
      },
      "execution_count": null,
      "outputs": [
        {
          "output_type": "execute_result",
          "data": {
            "text/plain": [
              "                 SEDE  CAMPAMENTO  CAMPANARIO  CLINICAS  FLOR DE LOTO  \\\n",
              "Error absoluto  152.0        15.0         3.0      45.0           7.0   \n",
              "\n",
              "                LIBRERIA  MARIPOSARIO  MIRADOR  PALMERAS  PARQUE INFANTIL  \\\n",
              "Error absoluto      21.0         16.0     11.0      40.0             18.0   \n",
              "\n",
              "                PARQUE LUNA  PLAYA ROJA  VENTANAS  \n",
              "Error absoluto         17.0        22.0      23.0  "
            ],
            "text/html": [
              "\n",
              "  <div id=\"df-26382fe6-08b2-4b5a-acbb-32ef0ad85bbe\">\n",
              "    <div class=\"colab-df-container\">\n",
              "      <div>\n",
              "<style scoped>\n",
              "    .dataframe tbody tr th:only-of-type {\n",
              "        vertical-align: middle;\n",
              "    }\n",
              "\n",
              "    .dataframe tbody tr th {\n",
              "        vertical-align: top;\n",
              "    }\n",
              "\n",
              "    .dataframe thead th {\n",
              "        text-align: right;\n",
              "    }\n",
              "</style>\n",
              "<table border=\"1\" class=\"dataframe\">\n",
              "  <thead>\n",
              "    <tr style=\"text-align: right;\">\n",
              "      <th></th>\n",
              "      <th>SEDE</th>\n",
              "      <th>CAMPAMENTO</th>\n",
              "      <th>CAMPANARIO</th>\n",
              "      <th>CLINICAS</th>\n",
              "      <th>FLOR DE LOTO</th>\n",
              "      <th>LIBRERIA</th>\n",
              "      <th>MARIPOSARIO</th>\n",
              "      <th>MIRADOR</th>\n",
              "      <th>PALMERAS</th>\n",
              "      <th>PARQUE INFANTIL</th>\n",
              "      <th>PARQUE LUNA</th>\n",
              "      <th>PLAYA ROJA</th>\n",
              "      <th>VENTANAS</th>\n",
              "    </tr>\n",
              "  </thead>\n",
              "  <tbody>\n",
              "    <tr>\n",
              "      <th>Error absoluto</th>\n",
              "      <td>152.0</td>\n",
              "      <td>15.0</td>\n",
              "      <td>3.0</td>\n",
              "      <td>45.0</td>\n",
              "      <td>7.0</td>\n",
              "      <td>21.0</td>\n",
              "      <td>16.0</td>\n",
              "      <td>11.0</td>\n",
              "      <td>40.0</td>\n",
              "      <td>18.0</td>\n",
              "      <td>17.0</td>\n",
              "      <td>22.0</td>\n",
              "      <td>23.0</td>\n",
              "    </tr>\n",
              "  </tbody>\n",
              "</table>\n",
              "</div>\n",
              "      <button class=\"colab-df-convert\" onclick=\"convertToInteractive('df-26382fe6-08b2-4b5a-acbb-32ef0ad85bbe')\"\n",
              "              title=\"Convert this dataframe to an interactive table.\"\n",
              "              style=\"display:none;\">\n",
              "        \n",
              "  <svg xmlns=\"http://www.w3.org/2000/svg\" height=\"24px\"viewBox=\"0 0 24 24\"\n",
              "       width=\"24px\">\n",
              "    <path d=\"M0 0h24v24H0V0z\" fill=\"none\"/>\n",
              "    <path d=\"M18.56 5.44l.94 2.06.94-2.06 2.06-.94-2.06-.94-.94-2.06-.94 2.06-2.06.94zm-11 1L8.5 8.5l.94-2.06 2.06-.94-2.06-.94L8.5 2.5l-.94 2.06-2.06.94zm10 10l.94 2.06.94-2.06 2.06-.94-2.06-.94-.94-2.06-.94 2.06-2.06.94z\"/><path d=\"M17.41 7.96l-1.37-1.37c-.4-.4-.92-.59-1.43-.59-.52 0-1.04.2-1.43.59L10.3 9.45l-7.72 7.72c-.78.78-.78 2.05 0 2.83L4 21.41c.39.39.9.59 1.41.59.51 0 1.02-.2 1.41-.59l7.78-7.78 2.81-2.81c.8-.78.8-2.07 0-2.86zM5.41 20L4 18.59l7.72-7.72 1.47 1.35L5.41 20z\"/>\n",
              "  </svg>\n",
              "      </button>\n",
              "      \n",
              "  <style>\n",
              "    .colab-df-container {\n",
              "      display:flex;\n",
              "      flex-wrap:wrap;\n",
              "      gap: 12px;\n",
              "    }\n",
              "\n",
              "    .colab-df-convert {\n",
              "      background-color: #E8F0FE;\n",
              "      border: none;\n",
              "      border-radius: 50%;\n",
              "      cursor: pointer;\n",
              "      display: none;\n",
              "      fill: #1967D2;\n",
              "      height: 32px;\n",
              "      padding: 0 0 0 0;\n",
              "      width: 32px;\n",
              "    }\n",
              "\n",
              "    .colab-df-convert:hover {\n",
              "      background-color: #E2EBFA;\n",
              "      box-shadow: 0px 1px 2px rgba(60, 64, 67, 0.3), 0px 1px 3px 1px rgba(60, 64, 67, 0.15);\n",
              "      fill: #174EA6;\n",
              "    }\n",
              "\n",
              "    [theme=dark] .colab-df-convert {\n",
              "      background-color: #3B4455;\n",
              "      fill: #D2E3FC;\n",
              "    }\n",
              "\n",
              "    [theme=dark] .colab-df-convert:hover {\n",
              "      background-color: #434B5C;\n",
              "      box-shadow: 0px 1px 3px 1px rgba(0, 0, 0, 0.15);\n",
              "      filter: drop-shadow(0px 1px 2px rgba(0, 0, 0, 0.3));\n",
              "      fill: #FFFFFF;\n",
              "    }\n",
              "  </style>\n",
              "\n",
              "      <script>\n",
              "        const buttonEl =\n",
              "          document.querySelector('#df-26382fe6-08b2-4b5a-acbb-32ef0ad85bbe button.colab-df-convert');\n",
              "        buttonEl.style.display =\n",
              "          google.colab.kernel.accessAllowed ? 'block' : 'none';\n",
              "\n",
              "        async function convertToInteractive(key) {\n",
              "          const element = document.querySelector('#df-26382fe6-08b2-4b5a-acbb-32ef0ad85bbe');\n",
              "          const dataTable =\n",
              "            await google.colab.kernel.invokeFunction('convertToInteractive',\n",
              "                                                     [key], {});\n",
              "          if (!dataTable) return;\n",
              "\n",
              "          const docLinkHtml = 'Like what you see? Visit the ' +\n",
              "            '<a target=\"_blank\" href=https://colab.research.google.com/notebooks/data_table.ipynb>data table notebook</a>'\n",
              "            + ' to learn more about interactive tables.';\n",
              "          element.innerHTML = '';\n",
              "          dataTable['output_type'] = 'display_data';\n",
              "          await google.colab.output.renderOutput(dataTable, element);\n",
              "          const docLink = document.createElement('div');\n",
              "          docLink.innerHTML = docLinkHtml;\n",
              "          element.appendChild(docLink);\n",
              "        }\n",
              "      </script>\n",
              "    </div>\n",
              "  </div>\n",
              "  "
            ]
          },
          "metadata": {},
          "execution_count": 19
        }
      ]
    },
    {
      "cell_type": "code",
      "execution_count": null,
      "metadata": {
        "id": "lF9C3ztY2S4S",
        "colab": {
          "base_uri": "https://localhost:8080/",
          "height": 143
        },
        "outputId": "b81270a2-ce5a-4148-e420-b96a563a7b13"
      },
      "outputs": [
        {
          "output_type": "execute_result",
          "data": {
            "text/plain": [
              "  feature  importance\n",
              "0  lag_28    0.969618\n",
              "1  lag_35    0.025320\n",
              "2   lag_7    0.005063"
            ],
            "text/html": [
              "\n",
              "  <div id=\"df-5515dbe3-64e6-47e4-8184-00f33861e66a\">\n",
              "    <div class=\"colab-df-container\">\n",
              "      <div>\n",
              "<style scoped>\n",
              "    .dataframe tbody tr th:only-of-type {\n",
              "        vertical-align: middle;\n",
              "    }\n",
              "\n",
              "    .dataframe tbody tr th {\n",
              "        vertical-align: top;\n",
              "    }\n",
              "\n",
              "    .dataframe thead th {\n",
              "        text-align: right;\n",
              "    }\n",
              "</style>\n",
              "<table border=\"1\" class=\"dataframe\">\n",
              "  <thead>\n",
              "    <tr style=\"text-align: right;\">\n",
              "      <th></th>\n",
              "      <th>feature</th>\n",
              "      <th>importance</th>\n",
              "    </tr>\n",
              "  </thead>\n",
              "  <tbody>\n",
              "    <tr>\n",
              "      <th>0</th>\n",
              "      <td>lag_28</td>\n",
              "      <td>0.969618</td>\n",
              "    </tr>\n",
              "    <tr>\n",
              "      <th>1</th>\n",
              "      <td>lag_35</td>\n",
              "      <td>0.025320</td>\n",
              "    </tr>\n",
              "    <tr>\n",
              "      <th>2</th>\n",
              "      <td>lag_7</td>\n",
              "      <td>0.005063</td>\n",
              "    </tr>\n",
              "  </tbody>\n",
              "</table>\n",
              "</div>\n",
              "      <button class=\"colab-df-convert\" onclick=\"convertToInteractive('df-5515dbe3-64e6-47e4-8184-00f33861e66a')\"\n",
              "              title=\"Convert this dataframe to an interactive table.\"\n",
              "              style=\"display:none;\">\n",
              "        \n",
              "  <svg xmlns=\"http://www.w3.org/2000/svg\" height=\"24px\"viewBox=\"0 0 24 24\"\n",
              "       width=\"24px\">\n",
              "    <path d=\"M0 0h24v24H0V0z\" fill=\"none\"/>\n",
              "    <path d=\"M18.56 5.44l.94 2.06.94-2.06 2.06-.94-2.06-.94-.94-2.06-.94 2.06-2.06.94zm-11 1L8.5 8.5l.94-2.06 2.06-.94-2.06-.94L8.5 2.5l-.94 2.06-2.06.94zm10 10l.94 2.06.94-2.06 2.06-.94-2.06-.94-.94-2.06-.94 2.06-2.06.94z\"/><path d=\"M17.41 7.96l-1.37-1.37c-.4-.4-.92-.59-1.43-.59-.52 0-1.04.2-1.43.59L10.3 9.45l-7.72 7.72c-.78.78-.78 2.05 0 2.83L4 21.41c.39.39.9.59 1.41.59.51 0 1.02-.2 1.41-.59l7.78-7.78 2.81-2.81c.8-.78.8-2.07 0-2.86zM5.41 20L4 18.59l7.72-7.72 1.47 1.35L5.41 20z\"/>\n",
              "  </svg>\n",
              "      </button>\n",
              "      \n",
              "  <style>\n",
              "    .colab-df-container {\n",
              "      display:flex;\n",
              "      flex-wrap:wrap;\n",
              "      gap: 12px;\n",
              "    }\n",
              "\n",
              "    .colab-df-convert {\n",
              "      background-color: #E8F0FE;\n",
              "      border: none;\n",
              "      border-radius: 50%;\n",
              "      cursor: pointer;\n",
              "      display: none;\n",
              "      fill: #1967D2;\n",
              "      height: 32px;\n",
              "      padding: 0 0 0 0;\n",
              "      width: 32px;\n",
              "    }\n",
              "\n",
              "    .colab-df-convert:hover {\n",
              "      background-color: #E2EBFA;\n",
              "      box-shadow: 0px 1px 2px rgba(60, 64, 67, 0.3), 0px 1px 3px 1px rgba(60, 64, 67, 0.15);\n",
              "      fill: #174EA6;\n",
              "    }\n",
              "\n",
              "    [theme=dark] .colab-df-convert {\n",
              "      background-color: #3B4455;\n",
              "      fill: #D2E3FC;\n",
              "    }\n",
              "\n",
              "    [theme=dark] .colab-df-convert:hover {\n",
              "      background-color: #434B5C;\n",
              "      box-shadow: 0px 1px 3px 1px rgba(0, 0, 0, 0.15);\n",
              "      filter: drop-shadow(0px 1px 2px rgba(0, 0, 0, 0.3));\n",
              "      fill: #FFFFFF;\n",
              "    }\n",
              "  </style>\n",
              "\n",
              "      <script>\n",
              "        const buttonEl =\n",
              "          document.querySelector('#df-5515dbe3-64e6-47e4-8184-00f33861e66a button.colab-df-convert');\n",
              "        buttonEl.style.display =\n",
              "          google.colab.kernel.accessAllowed ? 'block' : 'none';\n",
              "\n",
              "        async function convertToInteractive(key) {\n",
              "          const element = document.querySelector('#df-5515dbe3-64e6-47e4-8184-00f33861e66a');\n",
              "          const dataTable =\n",
              "            await google.colab.kernel.invokeFunction('convertToInteractive',\n",
              "                                                     [key], {});\n",
              "          if (!dataTable) return;\n",
              "\n",
              "          const docLinkHtml = 'Like what you see? Visit the ' +\n",
              "            '<a target=\"_blank\" href=https://colab.research.google.com/notebooks/data_table.ipynb>data table notebook</a>'\n",
              "            + ' to learn more about interactive tables.';\n",
              "          element.innerHTML = '';\n",
              "          dataTable['output_type'] = 'display_data';\n",
              "          await google.colab.output.renderOutput(dataTable, element);\n",
              "          const docLink = document.createElement('div');\n",
              "          docLink.innerHTML = docLinkHtml;\n",
              "          element.appendChild(docLink);\n",
              "        }\n",
              "      </script>\n",
              "    </div>\n",
              "  </div>\n",
              "  "
            ]
          },
          "metadata": {},
          "execution_count": 141
        }
      ],
      "source": [
        "# Importancia predictores\n",
        "# ==============================================================================\n",
        "forecasters[rest_seleccionado].get_feature_importance().sort_values(\"importance\", ascending=False)"
      ]
    },
    {
      "cell_type": "markdown",
      "source": [
        "//////////////////////////\n",
        "//////////////////////////\n",
        "//////////////////////////\n",
        "//////////////////////////\n",
        "//////////////////////////\n",
        "//////////////////////////\n",
        "//////////////////////////\n",
        "//////////////////////////\n",
        "//////////////////////////\n",
        "//////////////////////////\n",
        "//////////////////////////\n",
        "//////////////////////////\n",
        "//////////////////////////\n",
        "//////////////////////////\n",
        "//////////////////////////\n",
        "//////////////////////////\n",
        "//////////////////////////\n",
        "//////////////////////////\n",
        "//////////////////////////\n",
        "//////////////////////////\n",
        "//////////////////////////"
      ],
      "metadata": {
        "id": "8CSLyTs8bI6O"
      }
    },
    {
      "cell_type": "markdown",
      "metadata": {
        "id": "DMw3DHDaXLJ8"
      },
      "source": [
        "**Modelo en tiempo real**"
      ]
    },
    {
      "cell_type": "code",
      "source": [
        "# ==============================================================================\n",
        "\n",
        "# Lista de restaurantes:\n",
        "restaurantes = ['SEDE', 'CAMPAMENTO', 'CAMPANARIO', 'CLINICAS', 'FLOR DE LOTO',\n",
        "       'LIBRERIA', 'MARIPOSARIO', 'MIRADOR', 'PALMERAS', 'PARQUE INFANTIL',\n",
        "       'PARQUE LUNA', 'PLAYA ROJA', 'VENTANAS']\n",
        "\n",
        "#>>>>>>>>>>>>>>>>>>>>>>>>>>>>>>>>>>>>>>>>\n",
        "# Seleccionar restaurante:     # <<<<<<<<\n",
        "rest_seleccionado = \"SEDE\"     # <<<<<<<<\n",
        "#>>>>>>>>>>>>>>>>>>>>>>>>>>>>>>>>>>>>>>>>\n",
        "\n",
        "# =============================================================================="
      ],
      "metadata": {
        "id": "oE8kRlgckpwu"
      },
      "execution_count": null,
      "outputs": []
    },
    {
      "cell_type": "code",
      "source": [
        "# Predicciones para cada uno de los restaurantes en un momento cualquiera:\n",
        "# ==============================================================================\n",
        "predicciones = {}\n",
        "\n",
        "for restaurante in restaurantes:\n",
        "    rangomodelo = datos.loc[\"2022-02-28\":\"2022-06-25\", restaurante]\n",
        "    predicciones_restaurante = forecasters[restaurante].predict(steps=120, last_window=rangomodelo)\n",
        "    predicciones_restaurante = pd.DataFrame(predicciones_restaurante)\n",
        "    predicciones_restaurante.index = pd.to_datetime(predicciones_restaurante.index)\n",
        "    predicciones[restaurante] = predicciones_restaurante"
      ],
      "metadata": {
        "id": "LBxF4_A7kIm2"
      },
      "execution_count": null,
      "outputs": []
    },
    {
      "cell_type": "code",
      "execution_count": null,
      "metadata": {
        "id": "BSflLfXvY5y1",
        "colab": {
          "base_uri": "https://localhost:8080/",
          "height": 542
        },
        "outputId": "4882b1c1-80a0-48d0-f072-03da7d35c7b1"
      },
      "outputs": [
        {
          "output_type": "display_data",
          "data": {
            "text/html": [
              "<html>\n",
              "<head><meta charset=\"utf-8\" /></head>\n",
              "<body>\n",
              "    <div>            <script src=\"https://cdnjs.cloudflare.com/ajax/libs/mathjax/2.7.5/MathJax.js?config=TeX-AMS-MML_SVG\"></script><script type=\"text/javascript\">if (window.MathJax && window.MathJax.Hub && window.MathJax.Hub.Config) {window.MathJax.Hub.Config({SVG: {font: \"STIX-Web\"}});}</script>                <script type=\"text/javascript\">window.PlotlyConfig = {MathJaxConfig: 'local'};</script>\n",
              "        <script src=\"https://cdn.plot.ly/plotly-2.18.2.min.js\"></script>                <div id=\"77e56158-6ef9-4a58-8e18-c89f8062bc17\" class=\"plotly-graph-div\" style=\"height:525px; width:100%;\"></div>            <script type=\"text/javascript\">                                    window.PLOTLYENV=window.PLOTLYENV || {};                                    if (document.getElementById(\"77e56158-6ef9-4a58-8e18-c89f8062bc17\")) {                    Plotly.newPlot(                        \"77e56158-6ef9-4a58-8e18-c89f8062bc17\",                        [{\"name\":\"test\",\"x\":[\"2022-06-26T00:00:00\",\"2022-06-27T00:00:00\",\"2022-06-28T00:00:00\",\"2022-06-29T00:00:00\",\"2022-06-30T00:00:00\",\"2022-07-01T00:00:00\",\"2022-07-02T00:00:00\",\"2022-07-03T00:00:00\",\"2022-07-04T00:00:00\",\"2022-07-05T00:00:00\",\"2022-07-06T00:00:00\",\"2022-07-07T00:00:00\",\"2022-07-08T00:00:00\",\"2022-07-09T00:00:00\",\"2022-07-10T00:00:00\",\"2022-07-11T00:00:00\",\"2022-07-12T00:00:00\",\"2022-07-13T00:00:00\",\"2022-07-14T00:00:00\",\"2022-07-15T00:00:00\",\"2022-07-16T00:00:00\",\"2022-07-17T00:00:00\",\"2022-07-18T00:00:00\",\"2022-07-19T00:00:00\",\"2022-07-20T00:00:00\",\"2022-07-21T00:00:00\",\"2022-07-22T00:00:00\",\"2022-07-23T00:00:00\",\"2022-07-24T00:00:00\",\"2022-07-25T00:00:00\",\"2022-07-26T00:00:00\",\"2022-07-27T00:00:00\",\"2022-07-28T00:00:00\",\"2022-07-29T00:00:00\",\"2022-07-30T00:00:00\",\"2022-07-31T00:00:00\",\"2022-08-01T00:00:00\",\"2022-08-02T00:00:00\",\"2022-08-03T00:00:00\",\"2022-08-04T00:00:00\",\"2022-08-05T00:00:00\",\"2022-08-06T00:00:00\",\"2022-08-07T00:00:00\",\"2022-08-08T00:00:00\",\"2022-08-09T00:00:00\",\"2022-08-10T00:00:00\",\"2022-08-11T00:00:00\",\"2022-08-12T00:00:00\",\"2022-08-13T00:00:00\",\"2022-08-14T00:00:00\",\"2022-08-15T00:00:00\",\"2022-08-16T00:00:00\",\"2022-08-17T00:00:00\",\"2022-08-18T00:00:00\",\"2022-08-19T00:00:00\",\"2022-08-20T00:00:00\",\"2022-08-21T00:00:00\",\"2022-08-22T00:00:00\",\"2022-08-23T00:00:00\",\"2022-08-24T00:00:00\",\"2022-08-25T00:00:00\",\"2022-08-26T00:00:00\",\"2022-08-27T00:00:00\",\"2022-08-28T00:00:00\",\"2022-08-29T00:00:00\",\"2022-08-30T00:00:00\",\"2022-08-31T00:00:00\",\"2022-09-01T00:00:00\",\"2022-09-02T00:00:00\",\"2022-09-03T00:00:00\",\"2022-09-04T00:00:00\",\"2022-09-05T00:00:00\",\"2022-09-06T00:00:00\",\"2022-09-07T00:00:00\",\"2022-09-08T00:00:00\",\"2022-09-09T00:00:00\",\"2022-09-10T00:00:00\",\"2022-09-11T00:00:00\",\"2022-09-12T00:00:00\",\"2022-09-13T00:00:00\",\"2022-09-14T00:00:00\",\"2022-09-15T00:00:00\",\"2022-09-16T00:00:00\",\"2022-09-17T00:00:00\",\"2022-09-18T00:00:00\",\"2022-09-19T00:00:00\",\"2022-09-20T00:00:00\",\"2022-09-21T00:00:00\",\"2022-09-22T00:00:00\",\"2022-09-23T00:00:00\",\"2022-09-24T00:00:00\",\"2022-09-25T00:00:00\",\"2022-09-26T00:00:00\",\"2022-09-27T00:00:00\",\"2022-09-28T00:00:00\",\"2022-09-29T00:00:00\",\"2022-09-30T00:00:00\",\"2022-10-01T00:00:00\",\"2022-10-02T00:00:00\",\"2022-10-03T00:00:00\",\"2022-10-04T00:00:00\",\"2022-10-05T00:00:00\",\"2022-10-06T00:00:00\",\"2022-10-07T00:00:00\",\"2022-10-08T00:00:00\",\"2022-10-09T00:00:00\",\"2022-10-10T00:00:00\",\"2022-10-11T00:00:00\",\"2022-10-12T00:00:00\",\"2022-10-13T00:00:00\",\"2022-10-14T00:00:00\",\"2022-10-15T00:00:00\",\"2022-10-16T00:00:00\",\"2022-10-17T00:00:00\",\"2022-10-18T00:00:00\",\"2022-10-19T00:00:00\",\"2022-10-20T00:00:00\",\"2022-10-21T00:00:00\",\"2022-10-22T00:00:00\",\"2022-10-23T00:00:00\"],\"y\":[67.83170908379634,4183.55491632377,4226.346913357615,4198.276664678004,4200.006177445125,3861.3848686339998,156.66169374789797,0.28536251916466426,4212.534700089894,4365.220976633361,4210.083143664555,4210.083143664555,3988.2953655102983,156.66169374789797,0.28536251916466426,4400.606079806917,4356.760904226052,4210.1213038063315,4177.625926490922,3976.461584958899,156.66169374789797,129.16819062570312,4083.198603957866,4351.1350238120285,4329.024375810702,4101.370794399816,3971.368291889451,156.66169374789797,149.38293109536198,4152.058528085758,4369.253748689485,4341.135618856371,4138.161307672941,3480.045142574595,156.66169374789797,67.83170908379634,4112.443647246093,4356.760904226052,4358.490416993172,4114.173160013213,3963.936371594718,156.66169374789797,0.28536251916466426,4170.940662628778,4356.760904226052,4358.490416993172,4172.670175395899,4081.839316956489,156.66169374789797,129.16819062570312,4100.613175975282,4356.760904226052,4356.760904226052,4118.508834658127,4089.4202582926846,156.66169374789797,132.2019736044308,4188.874481453399,4356.760904226052,4356.760904226052,4188.874481453399,4016.716501347219,156.66169374789797,149.38293109536198,4228.016962489177,4356.760904226052,4356.760904226052,4228.016962489177,4041.651723745124,156.66169374789797,67.83170908379634,4401.306716556333,4356.760904226052,4356.760904226052,4401.306716556333,4116.11663845333,156.66169374789797,129.16819062570312,4282.809238253987,4356.760904226052,4356.760904226052,4341.522080779998,4177.005850040811,156.66169374789797,132.2019736044308,4403.6316929991945,4356.760904226052,4356.760904226052,4394.537996774369,4233.050791923066,156.66169374789797,132.2019736044308,4314.907088238806,4356.760904226052,4356.760904226052,4314.907088238806,4353.234141854782,156.66169374789797,149.38293109536198,4351.2956273355485,4356.760904226052,4356.760904226052,4351.2956273355485,4363.145126969739,156.66169374789797,165.60729966642566,4356.760904226052,4356.760904226052,4356.760904226052,4356.760904226052,4394.537996774369,156.66169374789797,156.66169374789797,4356.760904226052,4356.760904226052,4356.760904226052,4356.760904226052,4350.954668020002,156.66169374789797,156.66169374789797],\"type\":\"scatter\"}],                        {\"template\":{\"data\":{\"histogram2dcontour\":[{\"type\":\"histogram2dcontour\",\"colorbar\":{\"outlinewidth\":0,\"ticks\":\"\"},\"colorscale\":[[0.0,\"#0d0887\"],[0.1111111111111111,\"#46039f\"],[0.2222222222222222,\"#7201a8\"],[0.3333333333333333,\"#9c179e\"],[0.4444444444444444,\"#bd3786\"],[0.5555555555555556,\"#d8576b\"],[0.6666666666666666,\"#ed7953\"],[0.7777777777777778,\"#fb9f3a\"],[0.8888888888888888,\"#fdca26\"],[1.0,\"#f0f921\"]]}],\"choropleth\":[{\"type\":\"choropleth\",\"colorbar\":{\"outlinewidth\":0,\"ticks\":\"\"}}],\"histogram2d\":[{\"type\":\"histogram2d\",\"colorbar\":{\"outlinewidth\":0,\"ticks\":\"\"},\"colorscale\":[[0.0,\"#0d0887\"],[0.1111111111111111,\"#46039f\"],[0.2222222222222222,\"#7201a8\"],[0.3333333333333333,\"#9c179e\"],[0.4444444444444444,\"#bd3786\"],[0.5555555555555556,\"#d8576b\"],[0.6666666666666666,\"#ed7953\"],[0.7777777777777778,\"#fb9f3a\"],[0.8888888888888888,\"#fdca26\"],[1.0,\"#f0f921\"]]}],\"heatmap\":[{\"type\":\"heatmap\",\"colorbar\":{\"outlinewidth\":0,\"ticks\":\"\"},\"colorscale\":[[0.0,\"#0d0887\"],[0.1111111111111111,\"#46039f\"],[0.2222222222222222,\"#7201a8\"],[0.3333333333333333,\"#9c179e\"],[0.4444444444444444,\"#bd3786\"],[0.5555555555555556,\"#d8576b\"],[0.6666666666666666,\"#ed7953\"],[0.7777777777777778,\"#fb9f3a\"],[0.8888888888888888,\"#fdca26\"],[1.0,\"#f0f921\"]]}],\"heatmapgl\":[{\"type\":\"heatmapgl\",\"colorbar\":{\"outlinewidth\":0,\"ticks\":\"\"},\"colorscale\":[[0.0,\"#0d0887\"],[0.1111111111111111,\"#46039f\"],[0.2222222222222222,\"#7201a8\"],[0.3333333333333333,\"#9c179e\"],[0.4444444444444444,\"#bd3786\"],[0.5555555555555556,\"#d8576b\"],[0.6666666666666666,\"#ed7953\"],[0.7777777777777778,\"#fb9f3a\"],[0.8888888888888888,\"#fdca26\"],[1.0,\"#f0f921\"]]}],\"contourcarpet\":[{\"type\":\"contourcarpet\",\"colorbar\":{\"outlinewidth\":0,\"ticks\":\"\"}}],\"contour\":[{\"type\":\"contour\",\"colorbar\":{\"outlinewidth\":0,\"ticks\":\"\"},\"colorscale\":[[0.0,\"#0d0887\"],[0.1111111111111111,\"#46039f\"],[0.2222222222222222,\"#7201a8\"],[0.3333333333333333,\"#9c179e\"],[0.4444444444444444,\"#bd3786\"],[0.5555555555555556,\"#d8576b\"],[0.6666666666666666,\"#ed7953\"],[0.7777777777777778,\"#fb9f3a\"],[0.8888888888888888,\"#fdca26\"],[1.0,\"#f0f921\"]]}],\"surface\":[{\"type\":\"surface\",\"colorbar\":{\"outlinewidth\":0,\"ticks\":\"\"},\"colorscale\":[[0.0,\"#0d0887\"],[0.1111111111111111,\"#46039f\"],[0.2222222222222222,\"#7201a8\"],[0.3333333333333333,\"#9c179e\"],[0.4444444444444444,\"#bd3786\"],[0.5555555555555556,\"#d8576b\"],[0.6666666666666666,\"#ed7953\"],[0.7777777777777778,\"#fb9f3a\"],[0.8888888888888888,\"#fdca26\"],[1.0,\"#f0f921\"]]}],\"mesh3d\":[{\"type\":\"mesh3d\",\"colorbar\":{\"outlinewidth\":0,\"ticks\":\"\"}}],\"scatter\":[{\"fillpattern\":{\"fillmode\":\"overlay\",\"size\":10,\"solidity\":0.2},\"type\":\"scatter\"}],\"parcoords\":[{\"type\":\"parcoords\",\"line\":{\"colorbar\":{\"outlinewidth\":0,\"ticks\":\"\"}}}],\"scatterpolargl\":[{\"type\":\"scatterpolargl\",\"marker\":{\"colorbar\":{\"outlinewidth\":0,\"ticks\":\"\"}}}],\"bar\":[{\"error_x\":{\"color\":\"#2a3f5f\"},\"error_y\":{\"color\":\"#2a3f5f\"},\"marker\":{\"line\":{\"color\":\"#E5ECF6\",\"width\":0.5},\"pattern\":{\"fillmode\":\"overlay\",\"size\":10,\"solidity\":0.2}},\"type\":\"bar\"}],\"scattergeo\":[{\"type\":\"scattergeo\",\"marker\":{\"colorbar\":{\"outlinewidth\":0,\"ticks\":\"\"}}}],\"scatterpolar\":[{\"type\":\"scatterpolar\",\"marker\":{\"colorbar\":{\"outlinewidth\":0,\"ticks\":\"\"}}}],\"histogram\":[{\"marker\":{\"pattern\":{\"fillmode\":\"overlay\",\"size\":10,\"solidity\":0.2}},\"type\":\"histogram\"}],\"scattergl\":[{\"type\":\"scattergl\",\"marker\":{\"colorbar\":{\"outlinewidth\":0,\"ticks\":\"\"}}}],\"scatter3d\":[{\"type\":\"scatter3d\",\"line\":{\"colorbar\":{\"outlinewidth\":0,\"ticks\":\"\"}},\"marker\":{\"colorbar\":{\"outlinewidth\":0,\"ticks\":\"\"}}}],\"scattermapbox\":[{\"type\":\"scattermapbox\",\"marker\":{\"colorbar\":{\"outlinewidth\":0,\"ticks\":\"\"}}}],\"scatterternary\":[{\"type\":\"scatterternary\",\"marker\":{\"colorbar\":{\"outlinewidth\":0,\"ticks\":\"\"}}}],\"scattercarpet\":[{\"type\":\"scattercarpet\",\"marker\":{\"colorbar\":{\"outlinewidth\":0,\"ticks\":\"\"}}}],\"carpet\":[{\"aaxis\":{\"endlinecolor\":\"#2a3f5f\",\"gridcolor\":\"white\",\"linecolor\":\"white\",\"minorgridcolor\":\"white\",\"startlinecolor\":\"#2a3f5f\"},\"baxis\":{\"endlinecolor\":\"#2a3f5f\",\"gridcolor\":\"white\",\"linecolor\":\"white\",\"minorgridcolor\":\"white\",\"startlinecolor\":\"#2a3f5f\"},\"type\":\"carpet\"}],\"table\":[{\"cells\":{\"fill\":{\"color\":\"#EBF0F8\"},\"line\":{\"color\":\"white\"}},\"header\":{\"fill\":{\"color\":\"#C8D4E3\"},\"line\":{\"color\":\"white\"}},\"type\":\"table\"}],\"barpolar\":[{\"marker\":{\"line\":{\"color\":\"#E5ECF6\",\"width\":0.5},\"pattern\":{\"fillmode\":\"overlay\",\"size\":10,\"solidity\":0.2}},\"type\":\"barpolar\"}],\"pie\":[{\"automargin\":true,\"type\":\"pie\"}]},\"layout\":{\"autotypenumbers\":\"strict\",\"colorway\":[\"#636efa\",\"#EF553B\",\"#00cc96\",\"#ab63fa\",\"#FFA15A\",\"#19d3f3\",\"#FF6692\",\"#B6E880\",\"#FF97FF\",\"#FECB52\"],\"font\":{\"color\":\"#2a3f5f\"},\"hovermode\":\"closest\",\"hoverlabel\":{\"align\":\"left\"},\"paper_bgcolor\":\"white\",\"plot_bgcolor\":\"#E5ECF6\",\"polar\":{\"bgcolor\":\"#E5ECF6\",\"angularaxis\":{\"gridcolor\":\"white\",\"linecolor\":\"white\",\"ticks\":\"\"},\"radialaxis\":{\"gridcolor\":\"white\",\"linecolor\":\"white\",\"ticks\":\"\"}},\"ternary\":{\"bgcolor\":\"#E5ECF6\",\"aaxis\":{\"gridcolor\":\"white\",\"linecolor\":\"white\",\"ticks\":\"\"},\"baxis\":{\"gridcolor\":\"white\",\"linecolor\":\"white\",\"ticks\":\"\"},\"caxis\":{\"gridcolor\":\"white\",\"linecolor\":\"white\",\"ticks\":\"\"}},\"coloraxis\":{\"colorbar\":{\"outlinewidth\":0,\"ticks\":\"\"}},\"colorscale\":{\"sequential\":[[0.0,\"#0d0887\"],[0.1111111111111111,\"#46039f\"],[0.2222222222222222,\"#7201a8\"],[0.3333333333333333,\"#9c179e\"],[0.4444444444444444,\"#bd3786\"],[0.5555555555555556,\"#d8576b\"],[0.6666666666666666,\"#ed7953\"],[0.7777777777777778,\"#fb9f3a\"],[0.8888888888888888,\"#fdca26\"],[1.0,\"#f0f921\"]],\"sequentialminus\":[[0.0,\"#0d0887\"],[0.1111111111111111,\"#46039f\"],[0.2222222222222222,\"#7201a8\"],[0.3333333333333333,\"#9c179e\"],[0.4444444444444444,\"#bd3786\"],[0.5555555555555556,\"#d8576b\"],[0.6666666666666666,\"#ed7953\"],[0.7777777777777778,\"#fb9f3a\"],[0.8888888888888888,\"#fdca26\"],[1.0,\"#f0f921\"]],\"diverging\":[[0,\"#8e0152\"],[0.1,\"#c51b7d\"],[0.2,\"#de77ae\"],[0.3,\"#f1b6da\"],[0.4,\"#fde0ef\"],[0.5,\"#f7f7f7\"],[0.6,\"#e6f5d0\"],[0.7,\"#b8e186\"],[0.8,\"#7fbc41\"],[0.9,\"#4d9221\"],[1,\"#276419\"]]},\"xaxis\":{\"gridcolor\":\"white\",\"linecolor\":\"white\",\"ticks\":\"\",\"title\":{\"standoff\":15},\"zerolinecolor\":\"white\",\"automargin\":true,\"zerolinewidth\":2},\"yaxis\":{\"gridcolor\":\"white\",\"linecolor\":\"white\",\"ticks\":\"\",\"title\":{\"standoff\":15},\"zerolinecolor\":\"white\",\"automargin\":true,\"zerolinewidth\":2},\"scene\":{\"xaxis\":{\"backgroundcolor\":\"#E5ECF6\",\"gridcolor\":\"white\",\"linecolor\":\"white\",\"showbackground\":true,\"ticks\":\"\",\"zerolinecolor\":\"white\",\"gridwidth\":2},\"yaxis\":{\"backgroundcolor\":\"#E5ECF6\",\"gridcolor\":\"white\",\"linecolor\":\"white\",\"showbackground\":true,\"ticks\":\"\",\"zerolinecolor\":\"white\",\"gridwidth\":2},\"zaxis\":{\"backgroundcolor\":\"#E5ECF6\",\"gridcolor\":\"white\",\"linecolor\":\"white\",\"showbackground\":true,\"ticks\":\"\",\"zerolinecolor\":\"white\",\"gridwidth\":2}},\"shapedefaults\":{\"line\":{\"color\":\"#2a3f5f\"}},\"annotationdefaults\":{\"arrowcolor\":\"#2a3f5f\",\"arrowhead\":0,\"arrowwidth\":1},\"geo\":{\"bgcolor\":\"white\",\"landcolor\":\"#E5ECF6\",\"subunitcolor\":\"white\",\"showland\":true,\"showlakes\":true,\"lakecolor\":\"white\"},\"title\":{\"x\":0.05},\"mapbox\":{\"style\":\"light\"}}},\"title\":{\"text\":\"Predicci\\u00f3n SEDE\"},\"xaxis\":{\"title\":{\"text\":\"Fecha\"}},\"yaxis\":{\"title\":{\"text\":\"Cantidad\"}}},                        {\"responsive\": true}                    ).then(function(){\n",
              "                            \n",
              "var gd = document.getElementById('77e56158-6ef9-4a58-8e18-c89f8062bc17');\n",
              "var x = new MutationObserver(function (mutations, observer) {{\n",
              "        var display = window.getComputedStyle(gd).display;\n",
              "        if (!display || display === 'none') {{\n",
              "            console.log([gd, 'removed!']);\n",
              "            Plotly.purge(gd);\n",
              "            observer.disconnect();\n",
              "        }}\n",
              "}});\n",
              "\n",
              "// Listen for the removal of the full notebook cells\n",
              "var notebookContainer = gd.closest('#notebook-container');\n",
              "if (notebookContainer) {{\n",
              "    x.observe(notebookContainer, {childList: true});\n",
              "}}\n",
              "\n",
              "// Listen for the clearing of the current output cell\n",
              "var outputEl = gd.closest('.output');\n",
              "if (outputEl) {{\n",
              "    x.observe(outputEl, {childList: true});\n",
              "}}\n",
              "\n",
              "                        })                };                            </script>        </div>\n",
              "</body>\n",
              "</html>"
            ]
          },
          "metadata": {}
        }
      ],
      "source": [
        "# Gráfico predicción en tiempo real interactivo del restaurante seleccionado\n",
        "fig = go.Figure()\n",
        "\n",
        "fig.add_trace(go.Scatter(x=predicciones[rest_seleccionado].index, y=predicciones[rest_seleccionado][\"pred\"], name='test'))\n",
        "\n",
        "fig.update_layout(title='Predicción ' + rest_seleccionado,\n",
        "                  xaxis_title='Fecha',\n",
        "                  yaxis_title='Cantidad')\n",
        "\n",
        "fig.show()"
      ]
    },
    {
      "cell_type": "markdown",
      "source": [
        "//////////////////////////\n",
        "//////////////////////////\n",
        "//////////////////////////\n",
        "//////////////////////////\n",
        "//////////////////////////\n",
        "//////////////////////////\n",
        "//////////////////////////\n",
        "//////////////////////////\n",
        "//////////////////////////\n",
        "//////////////////////////\n",
        "//////////////////////////\n",
        "//////////////////////////\n",
        "//////////////////////////\n",
        "//////////////////////////\n",
        "//////////////////////////\n",
        "//////////////////////////\n",
        "//////////////////////////\n",
        "//////////////////////////\n",
        "//////////////////////////\n",
        "//////////////////////////\n",
        "//////////////////////////"
      ],
      "metadata": {
        "id": "XulDJWN_l-Tt"
      }
    },
    {
      "cell_type": "markdown",
      "source": [
        ">>>Con el siguiente código movemos los datos predichos hacía el semestre 2023-2 y luego reemplazamos las estimaciones de los días festivos y domingos por cero para obtener una estimación más acertada. Esto teniendo en cuenta el supuesto de que nada extraño sucederá durante el semestre\n",
        "\n",
        ">>>TAMPOCO SE ESTÁ TENIENDO EN CUENTA LA SEMANA DE RECESO"
      ],
      "metadata": {
        "id": "1T9g6XpGnkTs"
      }
    },
    {
      "cell_type": "code",
      "source": [
        "# ==============================================================================\n",
        "# Obteniendo las estimaciones finales:\n",
        "# ==============================================================================\n",
        "\n",
        "# Definir la fecha de inicio específica a la que se desea ajustar las fechas\n",
        "\n",
        "fecha_inicio = datetime(2023, 8, 6)\n",
        "#fecha_inicio = datetime(2022, 8, 7)\n",
        "\n",
        "# Obtener los días festivos en Colombia:\n",
        "years=[2021,2022,2023,2024]\n",
        "co_holidays = holidays.Colombia(years=years)\n",
        "\n",
        "for restaurante in restaurantes:\n",
        "\n",
        "    # Desplazar las fechas al inicio del semestre\n",
        "\n",
        "    # Calcular el desplazamiento entre la fecha de inicio específica y la primera fecha del DataFrame:\n",
        "    desplazamiento = predicciones[restaurante].index[0] - fecha_inicio\n",
        "    # Aplicar el desplazamiento a las fechas de inicio\n",
        "    predicciones[restaurante].index = predicciones[restaurante].index - desplazamiento\n",
        "\n",
        "    # Asignar los días festivos:\n",
        "\n",
        "    predicciones[restaurante][\"FESTIVO\"] = [str(fecha.date()) in co_holidays for fecha in predicciones[restaurante].index]\n",
        "\n",
        "    # Añadir el nombre de los días\n",
        "\n",
        "    # Obtener el nombre de los días de la semana:\n",
        "    predicciones[restaurante]['DIA'] = predicciones[restaurante].index.strftime('%A')\n",
        "    # Obtener como valores:\n",
        "    predicciones[restaurante]['DIA'] = predicciones[restaurante].index.day_of_week + 1\n",
        "\n",
        "    # Reemplazar los valores de días especiales por 0\n",
        "\n",
        "    # Reemplazar los valores por 0 cuando es festivo:\n",
        "    predicciones[restaurante].loc[predicciones[restaurante]['FESTIVO'], 'pred'] = 0\n",
        "    # Reemplazar los valores por 0 cuando es domingo:\n",
        "    predicciones[restaurante].loc[predicciones[restaurante]['DIA'] == 7, 'pred'] = 0\n",
        "\n",
        "# =============================================================================="
      ],
      "metadata": {
        "id": "xCJ8cBXYtaVN"
      },
      "execution_count": null,
      "outputs": []
    },
    {
      "cell_type": "markdown",
      "source": [
        "**Estimación final:**"
      ],
      "metadata": {
        "id": "IGRAjABOr5wf"
      }
    },
    {
      "cell_type": "code",
      "source": [
        "# ==============================================================================\n",
        "\n",
        "# Cantidades finales de almuerzos según el restaurante seleccionado:\n",
        "\n",
        "print(predicciones[rest_seleccionado][\"pred\"].sum())\n",
        "\n",
        "# =============================================================================="
      ],
      "metadata": {
        "id": "4o1Y_iftmzDj",
        "colab": {
          "base_uri": "https://localhost:8080/"
        },
        "outputId": "5a6f8890-d5f3-4e1c-ba39-5ec27cc5fcb7"
      },
      "execution_count": null,
      "outputs": [
        {
          "output_type": "stream",
          "name": "stdout",
          "text": [
            "342460.7186171997\n"
          ]
        }
      ]
    },
    {
      "cell_type": "code",
      "source": [
        "# ==============================================================================\n",
        "\n",
        "# Cantidades finales de almuerzos sumando las cantidades predichas por restaurante:\n",
        "\n",
        "cantidades_por_restaurante = {}\n",
        "\n",
        "for restaurante in restaurantes:\n",
        "    cantidades_individuales = predicciones[restaurante][\"pred\"].sum()\n",
        "    cantidades_por_restaurante[restaurante] = cantidades_individuales\n",
        "\n",
        "# Excluir la cantidad total de sede para la sumatoria de las cantidades:\n",
        "\n",
        "suma_total = sum(cantidades_por_restaurante[restaurante] for restaurante in cantidades_por_restaurante if restaurante != \"SEDE\")\n",
        "\n",
        "# =============================================================================="
      ],
      "metadata": {
        "id": "qBtzDCJolQSn"
      },
      "execution_count": null,
      "outputs": []
    },
    {
      "cell_type": "code",
      "source": [
        "# ==============================================================================\n",
        "# Cantidades finales de almuerzos si se sumara de manera individual por restaurante:\n",
        "\n",
        "print(suma_total)\n",
        "\n",
        "# =============================================================================="
      ],
      "metadata": {
        "id": "5FgWwjUxSx77",
        "colab": {
          "base_uri": "https://localhost:8080/"
        },
        "outputId": "782f06ab-7d89-4f01-c7d2-0add7e624e6d"
      },
      "execution_count": null,
      "outputs": [
        {
          "output_type": "stream",
          "name": "stdout",
          "text": [
            "324127.1356605061\n"
          ]
        }
      ]
    },
    {
      "cell_type": "code",
      "source": [
        "# ==============================================================================\n",
        "\n",
        "# Datos con las cantidades finales totales por restaurante y sede:\n",
        "\n",
        "(pd.DataFrame(cantidades_por_restaurante, index=[\"Cantidades estimadas\"])).round(0)\n",
        "\n",
        "# =============================================================================="
      ],
      "metadata": {
        "id": "Y0UWWGzfmOwR",
        "colab": {
          "base_uri": "https://localhost:8080/",
          "height": 197
        },
        "outputId": "8e439dc4-847e-4ae9-8829-75e952146160"
      },
      "execution_count": null,
      "outputs": [
        {
          "output_type": "execute_result",
          "data": {
            "text/plain": [
              "                          SEDE  CAMPAMENTO  CAMPANARIO  CLINICAS  \\\n",
              "Cantidades estimadas  342461.0     21263.0      9782.0   63495.0   \n",
              "\n",
              "                      FLOR DE LOTO  LIBRERIA  MARIPOSARIO  MIRADOR  PALMERAS  \\\n",
              "Cantidades estimadas        1666.0       0.0      22032.0  24098.0   73910.0   \n",
              "\n",
              "                      PARQUE INFANTIL  PARQUE LUNA  PLAYA ROJA  VENTANAS  \n",
              "Cantidades estimadas          13414.0      32502.0     25584.0   36382.0  "
            ],
            "text/html": [
              "\n",
              "  <div id=\"df-f808e0c6-2055-4ade-a835-f22db494436a\">\n",
              "    <div class=\"colab-df-container\">\n",
              "      <div>\n",
              "<style scoped>\n",
              "    .dataframe tbody tr th:only-of-type {\n",
              "        vertical-align: middle;\n",
              "    }\n",
              "\n",
              "    .dataframe tbody tr th {\n",
              "        vertical-align: top;\n",
              "    }\n",
              "\n",
              "    .dataframe thead th {\n",
              "        text-align: right;\n",
              "    }\n",
              "</style>\n",
              "<table border=\"1\" class=\"dataframe\">\n",
              "  <thead>\n",
              "    <tr style=\"text-align: right;\">\n",
              "      <th></th>\n",
              "      <th>SEDE</th>\n",
              "      <th>CAMPAMENTO</th>\n",
              "      <th>CAMPANARIO</th>\n",
              "      <th>CLINICAS</th>\n",
              "      <th>FLOR DE LOTO</th>\n",
              "      <th>LIBRERIA</th>\n",
              "      <th>MARIPOSARIO</th>\n",
              "      <th>MIRADOR</th>\n",
              "      <th>PALMERAS</th>\n",
              "      <th>PARQUE INFANTIL</th>\n",
              "      <th>PARQUE LUNA</th>\n",
              "      <th>PLAYA ROJA</th>\n",
              "      <th>VENTANAS</th>\n",
              "    </tr>\n",
              "  </thead>\n",
              "  <tbody>\n",
              "    <tr>\n",
              "      <th>Cantidades estimadas</th>\n",
              "      <td>342461.0</td>\n",
              "      <td>21263.0</td>\n",
              "      <td>9782.0</td>\n",
              "      <td>63495.0</td>\n",
              "      <td>1666.0</td>\n",
              "      <td>0.0</td>\n",
              "      <td>22032.0</td>\n",
              "      <td>24098.0</td>\n",
              "      <td>73910.0</td>\n",
              "      <td>13414.0</td>\n",
              "      <td>32502.0</td>\n",
              "      <td>25584.0</td>\n",
              "      <td>36382.0</td>\n",
              "    </tr>\n",
              "  </tbody>\n",
              "</table>\n",
              "</div>\n",
              "      <button class=\"colab-df-convert\" onclick=\"convertToInteractive('df-f808e0c6-2055-4ade-a835-f22db494436a')\"\n",
              "              title=\"Convert this dataframe to an interactive table.\"\n",
              "              style=\"display:none;\">\n",
              "        \n",
              "  <svg xmlns=\"http://www.w3.org/2000/svg\" height=\"24px\"viewBox=\"0 0 24 24\"\n",
              "       width=\"24px\">\n",
              "    <path d=\"M0 0h24v24H0V0z\" fill=\"none\"/>\n",
              "    <path d=\"M18.56 5.44l.94 2.06.94-2.06 2.06-.94-2.06-.94-.94-2.06-.94 2.06-2.06.94zm-11 1L8.5 8.5l.94-2.06 2.06-.94-2.06-.94L8.5 2.5l-.94 2.06-2.06.94zm10 10l.94 2.06.94-2.06 2.06-.94-2.06-.94-.94-2.06-.94 2.06-2.06.94z\"/><path d=\"M17.41 7.96l-1.37-1.37c-.4-.4-.92-.59-1.43-.59-.52 0-1.04.2-1.43.59L10.3 9.45l-7.72 7.72c-.78.78-.78 2.05 0 2.83L4 21.41c.39.39.9.59 1.41.59.51 0 1.02-.2 1.41-.59l7.78-7.78 2.81-2.81c.8-.78.8-2.07 0-2.86zM5.41 20L4 18.59l7.72-7.72 1.47 1.35L5.41 20z\"/>\n",
              "  </svg>\n",
              "      </button>\n",
              "      \n",
              "  <style>\n",
              "    .colab-df-container {\n",
              "      display:flex;\n",
              "      flex-wrap:wrap;\n",
              "      gap: 12px;\n",
              "    }\n",
              "\n",
              "    .colab-df-convert {\n",
              "      background-color: #E8F0FE;\n",
              "      border: none;\n",
              "      border-radius: 50%;\n",
              "      cursor: pointer;\n",
              "      display: none;\n",
              "      fill: #1967D2;\n",
              "      height: 32px;\n",
              "      padding: 0 0 0 0;\n",
              "      width: 32px;\n",
              "    }\n",
              "\n",
              "    .colab-df-convert:hover {\n",
              "      background-color: #E2EBFA;\n",
              "      box-shadow: 0px 1px 2px rgba(60, 64, 67, 0.3), 0px 1px 3px 1px rgba(60, 64, 67, 0.15);\n",
              "      fill: #174EA6;\n",
              "    }\n",
              "\n",
              "    [theme=dark] .colab-df-convert {\n",
              "      background-color: #3B4455;\n",
              "      fill: #D2E3FC;\n",
              "    }\n",
              "\n",
              "    [theme=dark] .colab-df-convert:hover {\n",
              "      background-color: #434B5C;\n",
              "      box-shadow: 0px 1px 3px 1px rgba(0, 0, 0, 0.15);\n",
              "      filter: drop-shadow(0px 1px 2px rgba(0, 0, 0, 0.3));\n",
              "      fill: #FFFFFF;\n",
              "    }\n",
              "  </style>\n",
              "\n",
              "      <script>\n",
              "        const buttonEl =\n",
              "          document.querySelector('#df-f808e0c6-2055-4ade-a835-f22db494436a button.colab-df-convert');\n",
              "        buttonEl.style.display =\n",
              "          google.colab.kernel.accessAllowed ? 'block' : 'none';\n",
              "\n",
              "        async function convertToInteractive(key) {\n",
              "          const element = document.querySelector('#df-f808e0c6-2055-4ade-a835-f22db494436a');\n",
              "          const dataTable =\n",
              "            await google.colab.kernel.invokeFunction('convertToInteractive',\n",
              "                                                     [key], {});\n",
              "          if (!dataTable) return;\n",
              "\n",
              "          const docLinkHtml = 'Like what you see? Visit the ' +\n",
              "            '<a target=\"_blank\" href=https://colab.research.google.com/notebooks/data_table.ipynb>data table notebook</a>'\n",
              "            + ' to learn more about interactive tables.';\n",
              "          element.innerHTML = '';\n",
              "          dataTable['output_type'] = 'display_data';\n",
              "          await google.colab.output.renderOutput(dataTable, element);\n",
              "          const docLink = document.createElement('div');\n",
              "          docLink.innerHTML = docLinkHtml;\n",
              "          element.appendChild(docLink);\n",
              "        }\n",
              "      </script>\n",
              "    </div>\n",
              "  </div>\n",
              "  "
            ]
          },
          "metadata": {},
          "execution_count": 32
        }
      ]
    },
    {
      "cell_type": "code",
      "source": [
        "# Gráfico predicción en tiempo real interactivo, sin valores de festivos ni domignos del restaurante seleccionado\n",
        "fig = go.Figure()\n",
        "\n",
        "fig.add_trace(go.Scatter(x=predicciones[rest_seleccionado].index, y=predicciones[rest_seleccionado][\"pred\"], name='test'))\n",
        "\n",
        "fig.update_layout(title='Predicción ' + rest_seleccionado,\n",
        "                  xaxis_title='Fecha',\n",
        "                  yaxis_title='Cantidad')\n",
        "\n",
        "fig.show()"
      ],
      "metadata": {
        "id": "0vs2Hg-gsQvz",
        "colab": {
          "base_uri": "https://localhost:8080/",
          "height": 542
        },
        "outputId": "5f54127c-ad96-49f8-d463-3652c5403543"
      },
      "execution_count": null,
      "outputs": [
        {
          "output_type": "display_data",
          "data": {
            "text/html": [
              "<html>\n",
              "<head><meta charset=\"utf-8\" /></head>\n",
              "<body>\n",
              "    <div>            <script src=\"https://cdnjs.cloudflare.com/ajax/libs/mathjax/2.7.5/MathJax.js?config=TeX-AMS-MML_SVG\"></script><script type=\"text/javascript\">if (window.MathJax && window.MathJax.Hub && window.MathJax.Hub.Config) {window.MathJax.Hub.Config({SVG: {font: \"STIX-Web\"}});}</script>                <script type=\"text/javascript\">window.PlotlyConfig = {MathJaxConfig: 'local'};</script>\n",
              "        <script src=\"https://cdn.plot.ly/plotly-2.18.2.min.js\"></script>                <div id=\"d6f5b218-48d3-4d3c-8e70-f78abb1c6312\" class=\"plotly-graph-div\" style=\"height:525px; width:100%;\"></div>            <script type=\"text/javascript\">                                    window.PLOTLYENV=window.PLOTLYENV || {};                                    if (document.getElementById(\"d6f5b218-48d3-4d3c-8e70-f78abb1c6312\")) {                    Plotly.newPlot(                        \"d6f5b218-48d3-4d3c-8e70-f78abb1c6312\",                        [{\"name\":\"test\",\"x\":[\"2023-08-06T00:00:00\",\"2023-08-07T00:00:00\",\"2023-08-08T00:00:00\",\"2023-08-09T00:00:00\",\"2023-08-10T00:00:00\",\"2023-08-11T00:00:00\",\"2023-08-12T00:00:00\",\"2023-08-13T00:00:00\",\"2023-08-14T00:00:00\",\"2023-08-15T00:00:00\",\"2023-08-16T00:00:00\",\"2023-08-17T00:00:00\",\"2023-08-18T00:00:00\",\"2023-08-19T00:00:00\",\"2023-08-20T00:00:00\",\"2023-08-21T00:00:00\",\"2023-08-22T00:00:00\",\"2023-08-23T00:00:00\",\"2023-08-24T00:00:00\",\"2023-08-25T00:00:00\",\"2023-08-26T00:00:00\",\"2023-08-27T00:00:00\",\"2023-08-28T00:00:00\",\"2023-08-29T00:00:00\",\"2023-08-30T00:00:00\",\"2023-08-31T00:00:00\",\"2023-09-01T00:00:00\",\"2023-09-02T00:00:00\",\"2023-09-03T00:00:00\",\"2023-09-04T00:00:00\",\"2023-09-05T00:00:00\",\"2023-09-06T00:00:00\",\"2023-09-07T00:00:00\",\"2023-09-08T00:00:00\",\"2023-09-09T00:00:00\",\"2023-09-10T00:00:00\",\"2023-09-11T00:00:00\",\"2023-09-12T00:00:00\",\"2023-09-13T00:00:00\",\"2023-09-14T00:00:00\",\"2023-09-15T00:00:00\",\"2023-09-16T00:00:00\",\"2023-09-17T00:00:00\",\"2023-09-18T00:00:00\",\"2023-09-19T00:00:00\",\"2023-09-20T00:00:00\",\"2023-09-21T00:00:00\",\"2023-09-22T00:00:00\",\"2023-09-23T00:00:00\",\"2023-09-24T00:00:00\",\"2023-09-25T00:00:00\",\"2023-09-26T00:00:00\",\"2023-09-27T00:00:00\",\"2023-09-28T00:00:00\",\"2023-09-29T00:00:00\",\"2023-09-30T00:00:00\",\"2023-10-01T00:00:00\",\"2023-10-02T00:00:00\",\"2023-10-03T00:00:00\",\"2023-10-04T00:00:00\",\"2023-10-05T00:00:00\",\"2023-10-06T00:00:00\",\"2023-10-07T00:00:00\",\"2023-10-08T00:00:00\",\"2023-10-09T00:00:00\",\"2023-10-10T00:00:00\",\"2023-10-11T00:00:00\",\"2023-10-12T00:00:00\",\"2023-10-13T00:00:00\",\"2023-10-14T00:00:00\",\"2023-10-15T00:00:00\",\"2023-10-16T00:00:00\",\"2023-10-17T00:00:00\",\"2023-10-18T00:00:00\",\"2023-10-19T00:00:00\",\"2023-10-20T00:00:00\",\"2023-10-21T00:00:00\",\"2023-10-22T00:00:00\",\"2023-10-23T00:00:00\",\"2023-10-24T00:00:00\",\"2023-10-25T00:00:00\",\"2023-10-26T00:00:00\",\"2023-10-27T00:00:00\",\"2023-10-28T00:00:00\",\"2023-10-29T00:00:00\",\"2023-10-30T00:00:00\",\"2023-10-31T00:00:00\",\"2023-11-01T00:00:00\",\"2023-11-02T00:00:00\",\"2023-11-03T00:00:00\",\"2023-11-04T00:00:00\",\"2023-11-05T00:00:00\",\"2023-11-06T00:00:00\",\"2023-11-07T00:00:00\",\"2023-11-08T00:00:00\",\"2023-11-09T00:00:00\",\"2023-11-10T00:00:00\",\"2023-11-11T00:00:00\",\"2023-11-12T00:00:00\",\"2023-11-13T00:00:00\",\"2023-11-14T00:00:00\",\"2023-11-15T00:00:00\",\"2023-11-16T00:00:00\",\"2023-11-17T00:00:00\",\"2023-11-18T00:00:00\",\"2023-11-19T00:00:00\",\"2023-11-20T00:00:00\",\"2023-11-21T00:00:00\",\"2023-11-22T00:00:00\",\"2023-11-23T00:00:00\",\"2023-11-24T00:00:00\",\"2023-11-25T00:00:00\",\"2023-11-26T00:00:00\",\"2023-11-27T00:00:00\",\"2023-11-28T00:00:00\",\"2023-11-29T00:00:00\",\"2023-11-30T00:00:00\",\"2023-12-01T00:00:00\",\"2023-12-02T00:00:00\",\"2023-12-03T00:00:00\"],\"y\":[0.0,0.0,4226.346913357615,4198.276664678004,4200.006177445125,3861.3848686339998,156.66169374789797,0.0,4212.534700089894,4365.220976633361,4210.083143664555,4210.083143664555,3988.2953655102983,156.66169374789797,0.0,0.0,4356.760904226052,4210.1213038063315,4177.625926490922,3976.461584958899,156.66169374789797,0.0,4083.198603957866,4351.1350238120285,4329.024375810702,4101.370794399816,3971.368291889451,156.66169374789797,0.0,4152.058528085758,4369.253748689485,4341.135618856371,4138.161307672941,3480.045142574595,156.66169374789797,0.0,4112.443647246093,4356.760904226052,4358.490416993172,4114.173160013213,3963.936371594718,156.66169374789797,0.0,4170.940662628778,4356.760904226052,4358.490416993172,4172.670175395899,4081.839316956489,156.66169374789797,0.0,4100.613175975282,4356.760904226052,4356.760904226052,4118.508834658127,4089.4202582926846,156.66169374789797,0.0,4188.874481453399,4356.760904226052,4356.760904226052,4188.874481453399,4016.716501347219,156.66169374789797,0.0,4228.016962489177,4356.760904226052,4356.760904226052,4228.016962489177,4041.651723745124,156.66169374789797,0.0,0.0,4356.760904226052,4356.760904226052,4401.306716556333,4116.11663845333,156.66169374789797,0.0,4282.809238253987,4356.760904226052,4356.760904226052,4341.522080779998,4177.005850040811,156.66169374789797,0.0,4403.6316929991945,4356.760904226052,4356.760904226052,4394.537996774369,4233.050791923066,156.66169374789797,0.0,0.0,4356.760904226052,4356.760904226052,4314.907088238806,4353.234141854782,156.66169374789797,0.0,0.0,4356.760904226052,4356.760904226052,4351.2956273355485,4363.145126969739,156.66169374789797,0.0,4356.760904226052,4356.760904226052,4356.760904226052,4356.760904226052,4394.537996774369,156.66169374789797,0.0,4356.760904226052,4356.760904226052,4356.760904226052,4356.760904226052,4350.954668020002,156.66169374789797,0.0],\"type\":\"scatter\"}],                        {\"template\":{\"data\":{\"histogram2dcontour\":[{\"type\":\"histogram2dcontour\",\"colorbar\":{\"outlinewidth\":0,\"ticks\":\"\"},\"colorscale\":[[0.0,\"#0d0887\"],[0.1111111111111111,\"#46039f\"],[0.2222222222222222,\"#7201a8\"],[0.3333333333333333,\"#9c179e\"],[0.4444444444444444,\"#bd3786\"],[0.5555555555555556,\"#d8576b\"],[0.6666666666666666,\"#ed7953\"],[0.7777777777777778,\"#fb9f3a\"],[0.8888888888888888,\"#fdca26\"],[1.0,\"#f0f921\"]]}],\"choropleth\":[{\"type\":\"choropleth\",\"colorbar\":{\"outlinewidth\":0,\"ticks\":\"\"}}],\"histogram2d\":[{\"type\":\"histogram2d\",\"colorbar\":{\"outlinewidth\":0,\"ticks\":\"\"},\"colorscale\":[[0.0,\"#0d0887\"],[0.1111111111111111,\"#46039f\"],[0.2222222222222222,\"#7201a8\"],[0.3333333333333333,\"#9c179e\"],[0.4444444444444444,\"#bd3786\"],[0.5555555555555556,\"#d8576b\"],[0.6666666666666666,\"#ed7953\"],[0.7777777777777778,\"#fb9f3a\"],[0.8888888888888888,\"#fdca26\"],[1.0,\"#f0f921\"]]}],\"heatmap\":[{\"type\":\"heatmap\",\"colorbar\":{\"outlinewidth\":0,\"ticks\":\"\"},\"colorscale\":[[0.0,\"#0d0887\"],[0.1111111111111111,\"#46039f\"],[0.2222222222222222,\"#7201a8\"],[0.3333333333333333,\"#9c179e\"],[0.4444444444444444,\"#bd3786\"],[0.5555555555555556,\"#d8576b\"],[0.6666666666666666,\"#ed7953\"],[0.7777777777777778,\"#fb9f3a\"],[0.8888888888888888,\"#fdca26\"],[1.0,\"#f0f921\"]]}],\"heatmapgl\":[{\"type\":\"heatmapgl\",\"colorbar\":{\"outlinewidth\":0,\"ticks\":\"\"},\"colorscale\":[[0.0,\"#0d0887\"],[0.1111111111111111,\"#46039f\"],[0.2222222222222222,\"#7201a8\"],[0.3333333333333333,\"#9c179e\"],[0.4444444444444444,\"#bd3786\"],[0.5555555555555556,\"#d8576b\"],[0.6666666666666666,\"#ed7953\"],[0.7777777777777778,\"#fb9f3a\"],[0.8888888888888888,\"#fdca26\"],[1.0,\"#f0f921\"]]}],\"contourcarpet\":[{\"type\":\"contourcarpet\",\"colorbar\":{\"outlinewidth\":0,\"ticks\":\"\"}}],\"contour\":[{\"type\":\"contour\",\"colorbar\":{\"outlinewidth\":0,\"ticks\":\"\"},\"colorscale\":[[0.0,\"#0d0887\"],[0.1111111111111111,\"#46039f\"],[0.2222222222222222,\"#7201a8\"],[0.3333333333333333,\"#9c179e\"],[0.4444444444444444,\"#bd3786\"],[0.5555555555555556,\"#d8576b\"],[0.6666666666666666,\"#ed7953\"],[0.7777777777777778,\"#fb9f3a\"],[0.8888888888888888,\"#fdca26\"],[1.0,\"#f0f921\"]]}],\"surface\":[{\"type\":\"surface\",\"colorbar\":{\"outlinewidth\":0,\"ticks\":\"\"},\"colorscale\":[[0.0,\"#0d0887\"],[0.1111111111111111,\"#46039f\"],[0.2222222222222222,\"#7201a8\"],[0.3333333333333333,\"#9c179e\"],[0.4444444444444444,\"#bd3786\"],[0.5555555555555556,\"#d8576b\"],[0.6666666666666666,\"#ed7953\"],[0.7777777777777778,\"#fb9f3a\"],[0.8888888888888888,\"#fdca26\"],[1.0,\"#f0f921\"]]}],\"mesh3d\":[{\"type\":\"mesh3d\",\"colorbar\":{\"outlinewidth\":0,\"ticks\":\"\"}}],\"scatter\":[{\"fillpattern\":{\"fillmode\":\"overlay\",\"size\":10,\"solidity\":0.2},\"type\":\"scatter\"}],\"parcoords\":[{\"type\":\"parcoords\",\"line\":{\"colorbar\":{\"outlinewidth\":0,\"ticks\":\"\"}}}],\"scatterpolargl\":[{\"type\":\"scatterpolargl\",\"marker\":{\"colorbar\":{\"outlinewidth\":0,\"ticks\":\"\"}}}],\"bar\":[{\"error_x\":{\"color\":\"#2a3f5f\"},\"error_y\":{\"color\":\"#2a3f5f\"},\"marker\":{\"line\":{\"color\":\"#E5ECF6\",\"width\":0.5},\"pattern\":{\"fillmode\":\"overlay\",\"size\":10,\"solidity\":0.2}},\"type\":\"bar\"}],\"scattergeo\":[{\"type\":\"scattergeo\",\"marker\":{\"colorbar\":{\"outlinewidth\":0,\"ticks\":\"\"}}}],\"scatterpolar\":[{\"type\":\"scatterpolar\",\"marker\":{\"colorbar\":{\"outlinewidth\":0,\"ticks\":\"\"}}}],\"histogram\":[{\"marker\":{\"pattern\":{\"fillmode\":\"overlay\",\"size\":10,\"solidity\":0.2}},\"type\":\"histogram\"}],\"scattergl\":[{\"type\":\"scattergl\",\"marker\":{\"colorbar\":{\"outlinewidth\":0,\"ticks\":\"\"}}}],\"scatter3d\":[{\"type\":\"scatter3d\",\"line\":{\"colorbar\":{\"outlinewidth\":0,\"ticks\":\"\"}},\"marker\":{\"colorbar\":{\"outlinewidth\":0,\"ticks\":\"\"}}}],\"scattermapbox\":[{\"type\":\"scattermapbox\",\"marker\":{\"colorbar\":{\"outlinewidth\":0,\"ticks\":\"\"}}}],\"scatterternary\":[{\"type\":\"scatterternary\",\"marker\":{\"colorbar\":{\"outlinewidth\":0,\"ticks\":\"\"}}}],\"scattercarpet\":[{\"type\":\"scattercarpet\",\"marker\":{\"colorbar\":{\"outlinewidth\":0,\"ticks\":\"\"}}}],\"carpet\":[{\"aaxis\":{\"endlinecolor\":\"#2a3f5f\",\"gridcolor\":\"white\",\"linecolor\":\"white\",\"minorgridcolor\":\"white\",\"startlinecolor\":\"#2a3f5f\"},\"baxis\":{\"endlinecolor\":\"#2a3f5f\",\"gridcolor\":\"white\",\"linecolor\":\"white\",\"minorgridcolor\":\"white\",\"startlinecolor\":\"#2a3f5f\"},\"type\":\"carpet\"}],\"table\":[{\"cells\":{\"fill\":{\"color\":\"#EBF0F8\"},\"line\":{\"color\":\"white\"}},\"header\":{\"fill\":{\"color\":\"#C8D4E3\"},\"line\":{\"color\":\"white\"}},\"type\":\"table\"}],\"barpolar\":[{\"marker\":{\"line\":{\"color\":\"#E5ECF6\",\"width\":0.5},\"pattern\":{\"fillmode\":\"overlay\",\"size\":10,\"solidity\":0.2}},\"type\":\"barpolar\"}],\"pie\":[{\"automargin\":true,\"type\":\"pie\"}]},\"layout\":{\"autotypenumbers\":\"strict\",\"colorway\":[\"#636efa\",\"#EF553B\",\"#00cc96\",\"#ab63fa\",\"#FFA15A\",\"#19d3f3\",\"#FF6692\",\"#B6E880\",\"#FF97FF\",\"#FECB52\"],\"font\":{\"color\":\"#2a3f5f\"},\"hovermode\":\"closest\",\"hoverlabel\":{\"align\":\"left\"},\"paper_bgcolor\":\"white\",\"plot_bgcolor\":\"#E5ECF6\",\"polar\":{\"bgcolor\":\"#E5ECF6\",\"angularaxis\":{\"gridcolor\":\"white\",\"linecolor\":\"white\",\"ticks\":\"\"},\"radialaxis\":{\"gridcolor\":\"white\",\"linecolor\":\"white\",\"ticks\":\"\"}},\"ternary\":{\"bgcolor\":\"#E5ECF6\",\"aaxis\":{\"gridcolor\":\"white\",\"linecolor\":\"white\",\"ticks\":\"\"},\"baxis\":{\"gridcolor\":\"white\",\"linecolor\":\"white\",\"ticks\":\"\"},\"caxis\":{\"gridcolor\":\"white\",\"linecolor\":\"white\",\"ticks\":\"\"}},\"coloraxis\":{\"colorbar\":{\"outlinewidth\":0,\"ticks\":\"\"}},\"colorscale\":{\"sequential\":[[0.0,\"#0d0887\"],[0.1111111111111111,\"#46039f\"],[0.2222222222222222,\"#7201a8\"],[0.3333333333333333,\"#9c179e\"],[0.4444444444444444,\"#bd3786\"],[0.5555555555555556,\"#d8576b\"],[0.6666666666666666,\"#ed7953\"],[0.7777777777777778,\"#fb9f3a\"],[0.8888888888888888,\"#fdca26\"],[1.0,\"#f0f921\"]],\"sequentialminus\":[[0.0,\"#0d0887\"],[0.1111111111111111,\"#46039f\"],[0.2222222222222222,\"#7201a8\"],[0.3333333333333333,\"#9c179e\"],[0.4444444444444444,\"#bd3786\"],[0.5555555555555556,\"#d8576b\"],[0.6666666666666666,\"#ed7953\"],[0.7777777777777778,\"#fb9f3a\"],[0.8888888888888888,\"#fdca26\"],[1.0,\"#f0f921\"]],\"diverging\":[[0,\"#8e0152\"],[0.1,\"#c51b7d\"],[0.2,\"#de77ae\"],[0.3,\"#f1b6da\"],[0.4,\"#fde0ef\"],[0.5,\"#f7f7f7\"],[0.6,\"#e6f5d0\"],[0.7,\"#b8e186\"],[0.8,\"#7fbc41\"],[0.9,\"#4d9221\"],[1,\"#276419\"]]},\"xaxis\":{\"gridcolor\":\"white\",\"linecolor\":\"white\",\"ticks\":\"\",\"title\":{\"standoff\":15},\"zerolinecolor\":\"white\",\"automargin\":true,\"zerolinewidth\":2},\"yaxis\":{\"gridcolor\":\"white\",\"linecolor\":\"white\",\"ticks\":\"\",\"title\":{\"standoff\":15},\"zerolinecolor\":\"white\",\"automargin\":true,\"zerolinewidth\":2},\"scene\":{\"xaxis\":{\"backgroundcolor\":\"#E5ECF6\",\"gridcolor\":\"white\",\"linecolor\":\"white\",\"showbackground\":true,\"ticks\":\"\",\"zerolinecolor\":\"white\",\"gridwidth\":2},\"yaxis\":{\"backgroundcolor\":\"#E5ECF6\",\"gridcolor\":\"white\",\"linecolor\":\"white\",\"showbackground\":true,\"ticks\":\"\",\"zerolinecolor\":\"white\",\"gridwidth\":2},\"zaxis\":{\"backgroundcolor\":\"#E5ECF6\",\"gridcolor\":\"white\",\"linecolor\":\"white\",\"showbackground\":true,\"ticks\":\"\",\"zerolinecolor\":\"white\",\"gridwidth\":2}},\"shapedefaults\":{\"line\":{\"color\":\"#2a3f5f\"}},\"annotationdefaults\":{\"arrowcolor\":\"#2a3f5f\",\"arrowhead\":0,\"arrowwidth\":1},\"geo\":{\"bgcolor\":\"white\",\"landcolor\":\"#E5ECF6\",\"subunitcolor\":\"white\",\"showland\":true,\"showlakes\":true,\"lakecolor\":\"white\"},\"title\":{\"x\":0.05},\"mapbox\":{\"style\":\"light\"}}},\"title\":{\"text\":\"Predicci\\u00f3n SEDE\"},\"xaxis\":{\"title\":{\"text\":\"Fecha\"}},\"yaxis\":{\"title\":{\"text\":\"Cantidad\"}}},                        {\"responsive\": true}                    ).then(function(){\n",
              "                            \n",
              "var gd = document.getElementById('d6f5b218-48d3-4d3c-8e70-f78abb1c6312');\n",
              "var x = new MutationObserver(function (mutations, observer) {{\n",
              "        var display = window.getComputedStyle(gd).display;\n",
              "        if (!display || display === 'none') {{\n",
              "            console.log([gd, 'removed!']);\n",
              "            Plotly.purge(gd);\n",
              "            observer.disconnect();\n",
              "        }}\n",
              "}});\n",
              "\n",
              "// Listen for the removal of the full notebook cells\n",
              "var notebookContainer = gd.closest('#notebook-container');\n",
              "if (notebookContainer) {{\n",
              "    x.observe(notebookContainer, {childList: true});\n",
              "}}\n",
              "\n",
              "// Listen for the clearing of the current output cell\n",
              "var outputEl = gd.closest('.output');\n",
              "if (outputEl) {{\n",
              "    x.observe(outputEl, {childList: true});\n",
              "}}\n",
              "\n",
              "                        })                };                            </script>        </div>\n",
              "</body>\n",
              "</html>"
            ]
          },
          "metadata": {}
        }
      ]
    },
    {
      "cell_type": "markdown",
      "source": [
        "**Base de datos finales con la cantidad de almuerzos estimados para el semestre seleccionado:**"
      ],
      "metadata": {
        "id": "LrbEY3QSp7YS"
      }
    },
    {
      "cell_type": "code",
      "source": [
        "# ==============================================================================\n",
        "\n",
        "# Renombrando las columnas para cada restaurante:\n",
        "\n",
        "for restaurante in restaurantes:\n",
        "    predicciones[restaurante].rename(columns={'pred': restaurante}, inplace=True)\n",
        "\n",
        "# Elaboración de la base de datos:\n",
        "\n",
        "dataframes = []\n",
        "\n",
        "for restaurante in restaurantes:\n",
        "    dataframes.append(predicciones[restaurante])\n",
        "\n",
        "# Concatenar los DataFrames en uno solo\n",
        "datos_finales = pd.concat(dataframes, axis=1)\n",
        "\n",
        "# Eliminar columnas dias\n",
        "datos_finales = datos_finales.drop(['FESTIVO', 'DIA'], axis=1)\n",
        "\n",
        "# Asignación de días festivos:\n",
        "\n",
        "# Obtener los días festivos en Colombia:\n",
        "years=[2021,2022,2023]\n",
        "co_holidays = holidays.Colombia(years=years)\n",
        "\n",
        "# Crear una columna 'EsFestivo' y asignar True si la fecha es un día festivo en Colombia, False de lo contrario\n",
        "datos_finales[\"FESTIVO\"] = [str(fecha.date()) in co_holidays for fecha in datos_finales.index]\n",
        "\n",
        "\n",
        "# Añadir el nombre de los días en una columna:\n",
        "\n",
        "# Obtener el nombre de los días de la semana:\n",
        "datos_finales['DIA'] = datos_finales.index.strftime('%A')\n",
        "\n",
        "# Obtener como valores:\n",
        "datos_finales['DIA'] = datos_finales.index.day_of_week + 1\n",
        "\n",
        "datos_finales = datos_finales.round(0)\n",
        "\n",
        "# =============================================================================="
      ],
      "metadata": {
        "id": "nq-S4Yanqqox"
      },
      "execution_count": null,
      "outputs": []
    },
    {
      "cell_type": "markdown",
      "source": [
        "//////////////////////////\n",
        "//////////////////////////\n",
        "//////////////////////////\n",
        "//////////////////////////\n",
        "//////////////////////////\n",
        "//////////////////////////\n",
        "//////////////////////////\n",
        "//////////////////////////\n",
        "//////////////////////////\n",
        "//////////////////////////\n",
        "//////////////////////////\n",
        "//////////////////////////\n",
        "//////////////////////////\n",
        "//////////////////////////\n",
        "//////////////////////////\n",
        "//////////////////////////\n",
        "//////////////////////////\n",
        "//////////////////////////\n",
        "//////////////////////////\n",
        "//////////////////////////\n",
        "//////////////////////////"
      ],
      "metadata": {
        "id": "qsbxV9TtyWj0"
      }
    },
    {
      "cell_type": "markdown",
      "source": [
        "**Resultado final**\n",
        "\n",
        "---\n",
        "\n"
      ],
      "metadata": {
        "id": "ntCF2VIetTDb"
      }
    },
    {
      "cell_type": "code",
      "source": [
        "# ==============================================================================\n",
        "# Descargar archivo excel con los valores estimados del semestre:\n",
        "datos_finales.to_excel('Cantidades estimadas del segundo semestre de 2023.xlsx', index=True)\n",
        "# =============================================================================="
      ],
      "metadata": {
        "id": "u7WRvP60xCsz"
      },
      "execution_count": null,
      "outputs": []
    },
    {
      "cell_type": "code",
      "source": [
        "datos_finales"
      ],
      "metadata": {
        "id": "Hk6utWguYK0k"
      },
      "execution_count": null,
      "outputs": []
    },
    {
      "cell_type": "markdown",
      "source": [
        "**Notas:**\n",
        "\n",
        "1. La semana de receso se está tomando como una semana normal\n",
        "\n",
        "2. Se tienen en cuenta festivos y domingos para la estimación\n",
        "\n",
        "3. Las estimaciones se pueden ver afectadas por el impacto de las cantidades REALES que hayan en el siguiente semestre del restaurante LIBRERIA (notar que en el archivo este fue el único restaurante que no se debe tener en cuenta)\n",
        "\n",
        "4. **Por lo tanto, las estimaciones más confiables siguien siendo las de nivel de sede, a no ser que haya una mejor proporción de datos para LIBRERIA**"
      ],
      "metadata": {
        "id": "xh2WancFpGNL"
      }
    },
    {
      "cell_type": "markdown",
      "source": [
        "//////////////////////////\n",
        "//////////////////////////\n",
        "//////////////////////////\n",
        "//////////////////////////\n",
        "//////////////////////////\n",
        "//////////////////////////\n",
        "//////////////////////////\n",
        "//////////////////////////\n",
        "//////////////////////////\n",
        "//////////////////////////\n",
        "//////////////////////////\n",
        "//////////////////////////\n",
        "//////////////////////////\n",
        "//////////////////////////\n",
        "//////////////////////////\n",
        "//////////////////////////\n",
        "//////////////////////////\n",
        "//////////////////////////\n",
        "//////////////////////////\n",
        "//////////////////////////\n",
        "//////////////////////////"
      ],
      "metadata": {
        "id": "5fZV9xhvyXSk"
      }
    },
    {
      "cell_type": "markdown",
      "source": [
        ">El modelo de machine learning se elaboró en base a un proyecto de forecasting para la serie temporal de la demanda eléctrica (MW) del estado de Victoria (Australia)"
      ],
      "metadata": {
        "id": "kbYVbgJ4qLEq"
      }
    },
    {
      "cell_type": "markdown",
      "source": [
        "**Referencia:**\n",
        "\n",
        "Predicción (forecasting) de la demanda eléctrica con Python by Joaquín Amat Rodrigo and Javier Escobar Ortiz, available under a Attribution 4.0 International (CC BY 4.0) at https://www.cienciadedatos.net/documentos/py29-forecasting-demanda-energia-electrica-python.html"
      ],
      "metadata": {
        "id": "LhSUvlRhgnwc"
      }
    }
  ],
  "metadata": {
    "colab": {
      "provenance": []
    },
    "kernelspec": {
      "display_name": "Python 3",
      "name": "python3"
    },
    "language_info": {
      "name": "python"
    }
  },
  "nbformat": 4,
  "nbformat_minor": 0
}